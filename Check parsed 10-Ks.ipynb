{
 "cells": [
  {
   "cell_type": "code",
   "execution_count": 1,
   "id": "c79252f3",
   "metadata": {},
   "outputs": [],
   "source": [
    "import os\n",
    "import pandas as pd"
   ]
  },
  {
   "cell_type": "code",
   "execution_count": 2,
   "id": "bad753c5",
   "metadata": {},
   "outputs": [],
   "source": [
    "data_dir = '/media/dmlab/My Passport/DATA/sec'\n",
    "data_filepath = os.path.join(data_dir, '10K_parsed.csv')"
   ]
  },
  {
   "cell_type": "code",
   "execution_count": 3,
   "id": "9f43c325",
   "metadata": {},
   "outputs": [
    {
     "name": "stdout",
     "output_type": "stream",
     "text": [
      "1342\n"
     ]
    },
    {
     "data": {
      "text/html": [
       "<div>\n",
       "<style scoped>\n",
       "    .dataframe tbody tr th:only-of-type {\n",
       "        vertical-align: middle;\n",
       "    }\n",
       "\n",
       "    .dataframe tbody tr th {\n",
       "        vertical-align: top;\n",
       "    }\n",
       "\n",
       "    .dataframe thead th {\n",
       "        text-align: right;\n",
       "    }\n",
       "</style>\n",
       "<table border=\"1\" class=\"dataframe\">\n",
       "  <thead>\n",
       "    <tr style=\"text-align: right;\">\n",
       "      <th></th>\n",
       "      <th>form_type</th>\n",
       "      <th>CIK</th>\n",
       "      <th>filing_date</th>\n",
       "      <th>period_of_report</th>\n",
       "      <th>texts_only</th>\n",
       "      <th>image_urls</th>\n",
       "      <th>files_url</th>\n",
       "      <th>form_url</th>\n",
       "      <th>Ticker</th>\n",
       "      <th>CompanyName</th>\n",
       "      <th>item1_business</th>\n",
       "      <th>item1a_risk</th>\n",
       "      <th>item7_mda</th>\n",
       "    </tr>\n",
       "  </thead>\n",
       "  <tbody>\n",
       "    <tr>\n",
       "      <th>0</th>\n",
       "      <td>10-K</td>\n",
       "      <td>66740</td>\n",
       "      <td>2022-02-09</td>\n",
       "      <td>2021-12-31</td>\n",
       "      <td>mmm-202112310000066740falsefalse2021FYP10YP20Y...</td>\n",
       "      <td>[]</td>\n",
       "      <td>https://www.sec.gov/Archives/edgar/data/66740/...</td>\n",
       "      <td>https://www.sec.gov/Archives/edgar/data/66740/...</td>\n",
       "      <td>MMM</td>\n",
       "      <td>3M</td>\n",
       "      <td>Item 1. Business.3M Company was incorporated i...</td>\n",
       "      <td>ITEM 1ARisk Factors9ITEM 1BUnresolved Staff Co...</td>\n",
       "      <td>Item 7 may involve risks and uncertainties tha...</td>\n",
       "    </tr>\n",
       "    <tr>\n",
       "      <th>1</th>\n",
       "      <td>10-K</td>\n",
       "      <td>66740</td>\n",
       "      <td>2021-02-04</td>\n",
       "      <td>2020-12-31</td>\n",
       "      <td>Common Stock, Par Value $.01 Per Share--12-312...</td>\n",
       "      <td>[]</td>\n",
       "      <td>https://www.sec.gov/Archives/edgar/data/66740/...</td>\n",
       "      <td>https://www.sec.gov/Archives/edgar/data/66740/...</td>\n",
       "      <td>MMM</td>\n",
       "      <td>3M</td>\n",
       "      <td>Item 1. Business.3M Company was incorporated i...</td>\n",
       "      <td>ITEM 1ARisk Factors10ITEM 1BUnresolved Staff C...</td>\n",
       "      <td>Item 7, contains forward-looking statements wi...</td>\n",
       "    </tr>\n",
       "    <tr>\n",
       "      <th>2</th>\n",
       "      <td>10-K</td>\n",
       "      <td>66740</td>\n",
       "      <td>2020-02-06</td>\n",
       "      <td>2019-12-31</td>\n",
       "      <td>Common Stock, Par Value $.01 Per SharetrueP20Y...</td>\n",
       "      <td>[]</td>\n",
       "      <td>https://www.sec.gov/Archives/edgar/data/66740/...</td>\n",
       "      <td>https://www.sec.gov/Archives/edgar/data/66740/...</td>\n",
       "      <td>MMM</td>\n",
       "      <td>3M</td>\n",
       "      <td>Item 1. Business.3M Company was incorporated i...</td>\n",
       "      <td>ITEM 1ARisk Factors10ITEM 1BUnresolved Staff C...</td>\n",
       "      <td>Item 7, contains forward-looking statements wi...</td>\n",
       "    </tr>\n",
       "    <tr>\n",
       "      <th>3</th>\n",
       "      <td>10-K</td>\n",
       "      <td>91142</td>\n",
       "      <td>2022-02-11</td>\n",
       "      <td>2021-12-31</td>\n",
       "      <td>aos-20211231false0000091142FY2021P3YP3YP5YP1YP...</td>\n",
       "      <td>['https://www.sec.gov/Archives/edgar/data/9114...</td>\n",
       "      <td>https://www.sec.gov/Archives/edgar/data/91142/...</td>\n",
       "      <td>https://www.sec.gov/Archives/edgar/data/91142/...</td>\n",
       "      <td>AOS</td>\n",
       "      <td>A. O. Smith</td>\n",
       "      <td>ITEM 1  BUSINESSAs used in this annual report ...</td>\n",
       "      <td>Item 1A.Risk Factors7Item 1B.Unresolved Staff ...</td>\n",
       "      <td>Item 7 of this Annual Report on Form 10-K.Our ...</td>\n",
       "    </tr>\n",
       "    <tr>\n",
       "      <th>4</th>\n",
       "      <td>10-K</td>\n",
       "      <td>91142</td>\n",
       "      <td>2021-02-12</td>\n",
       "      <td>2020-12-31</td>\n",
       "      <td>aos-20201231false0000091142FYAOS2020P3YP3YP5YP...</td>\n",
       "      <td>['https://www.sec.gov/Archives/edgar/data/9114...</td>\n",
       "      <td>https://www.sec.gov/Archives/edgar/data/91142/...</td>\n",
       "      <td>https://www.sec.gov/Archives/edgar/data/91142/...</td>\n",
       "      <td>AOS</td>\n",
       "      <td>A. O. Smith</td>\n",
       "      <td>ITEM 1  BUSINESSOur company is comprised of tw...</td>\n",
       "      <td>Item 1A.Risk Factors6Item 1B.Unresolved Staff ...</td>\n",
       "      <td>Item 7 of this Annual Report on Form 10-K.Our ...</td>\n",
       "    </tr>\n",
       "  </tbody>\n",
       "</table>\n",
       "</div>"
      ],
      "text/plain": [
       "  form_type    CIK filing_date period_of_report  \\\n",
       "0      10-K  66740  2022-02-09       2021-12-31   \n",
       "1      10-K  66740  2021-02-04       2020-12-31   \n",
       "2      10-K  66740  2020-02-06       2019-12-31   \n",
       "3      10-K  91142  2022-02-11       2021-12-31   \n",
       "4      10-K  91142  2021-02-12       2020-12-31   \n",
       "\n",
       "                                          texts_only  \\\n",
       "0  mmm-202112310000066740falsefalse2021FYP10YP20Y...   \n",
       "1  Common Stock, Par Value $.01 Per Share--12-312...   \n",
       "2  Common Stock, Par Value $.01 Per SharetrueP20Y...   \n",
       "3  aos-20211231false0000091142FY2021P3YP3YP5YP1YP...   \n",
       "4  aos-20201231false0000091142FYAOS2020P3YP3YP5YP...   \n",
       "\n",
       "                                          image_urls  \\\n",
       "0                                                 []   \n",
       "1                                                 []   \n",
       "2                                                 []   \n",
       "3  ['https://www.sec.gov/Archives/edgar/data/9114...   \n",
       "4  ['https://www.sec.gov/Archives/edgar/data/9114...   \n",
       "\n",
       "                                           files_url  \\\n",
       "0  https://www.sec.gov/Archives/edgar/data/66740/...   \n",
       "1  https://www.sec.gov/Archives/edgar/data/66740/...   \n",
       "2  https://www.sec.gov/Archives/edgar/data/66740/...   \n",
       "3  https://www.sec.gov/Archives/edgar/data/91142/...   \n",
       "4  https://www.sec.gov/Archives/edgar/data/91142/...   \n",
       "\n",
       "                                            form_url Ticker  CompanyName  \\\n",
       "0  https://www.sec.gov/Archives/edgar/data/66740/...    MMM           3M   \n",
       "1  https://www.sec.gov/Archives/edgar/data/66740/...    MMM           3M   \n",
       "2  https://www.sec.gov/Archives/edgar/data/66740/...    MMM           3M   \n",
       "3  https://www.sec.gov/Archives/edgar/data/91142/...    AOS  A. O. Smith   \n",
       "4  https://www.sec.gov/Archives/edgar/data/91142/...    AOS  A. O. Smith   \n",
       "\n",
       "                                      item1_business  \\\n",
       "0  Item 1. Business.3M Company was incorporated i...   \n",
       "1  Item 1. Business.3M Company was incorporated i...   \n",
       "2  Item 1. Business.3M Company was incorporated i...   \n",
       "3  ITEM 1  BUSINESSAs used in this annual report ...   \n",
       "4  ITEM 1  BUSINESSOur company is comprised of tw...   \n",
       "\n",
       "                                         item1a_risk  \\\n",
       "0  ITEM 1ARisk Factors9ITEM 1BUnresolved Staff Co...   \n",
       "1  ITEM 1ARisk Factors10ITEM 1BUnresolved Staff C...   \n",
       "2  ITEM 1ARisk Factors10ITEM 1BUnresolved Staff C...   \n",
       "3  Item 1A.Risk Factors7Item 1B.Unresolved Staff ...   \n",
       "4  Item 1A.Risk Factors6Item 1B.Unresolved Staff ...   \n",
       "\n",
       "                                           item7_mda  \n",
       "0  Item 7 may involve risks and uncertainties tha...  \n",
       "1  Item 7, contains forward-looking statements wi...  \n",
       "2  Item 7, contains forward-looking statements wi...  \n",
       "3  Item 7 of this Annual Report on Form 10-K.Our ...  \n",
       "4  Item 7 of this Annual Report on Form 10-K.Our ...  "
      ]
     },
     "execution_count": 3,
     "metadata": {},
     "output_type": "execute_result"
    }
   ],
   "source": [
    "df = pd.read_csv(data_filepath)\n",
    "print(len(df))\n",
    "df.head()"
   ]
  },
  {
   "cell_type": "markdown",
   "id": "091a8697",
   "metadata": {},
   "source": [
    "파싱된 문서의 길이"
   ]
  },
  {
   "cell_type": "code",
   "execution_count": 5,
   "id": "62d68574",
   "metadata": {},
   "outputs": [
    {
     "name": "stdout",
     "output_type": "stream",
     "text": [
      "item1_business\n",
      "min=21\n",
      "Median=56859.0\n",
      "max=516184\n",
      "Number of inappropriately processed documents: 47 (3.50%)\n",
      "Median: https://www.sec.gov/Archives/edgar/data/1521332/000152133222000010/aptv-20211231.htm\n",
      "\n",
      "item1a_risk\n",
      "min=21\n",
      "Median=71564.5\n",
      "max=1467336\n",
      "Number of inappropriately processed documents: 34 (2.53%)\n",
      "Median: https://www.sec.gov/Archives/edgar/data/874716/000087471620000006/idxx201910k.htm\n",
      "\n",
      "item7_mda\n",
      "min=21\n",
      "Median=70292.0\n",
      "max=361653\n",
      "Number of inappropriately processed documents: 46 (3.43%)\n",
      "Median: https://www.sec.gov/Archives/edgar/data/1510295/000151029521000027/mpc-20201231.htm\n",
      "\n"
     ]
    }
   ],
   "source": [
    "for colname, origin_colname in [('len_item1', 'item1_business'), ('len_item1a', 'item1a_risk'), \\\n",
    "                                ('len_item7', 'item7_mda')]:\n",
    "    df[colname] = df[origin_colname].apply(lambda x: len(x))\n",
    "    print(origin_colname)\n",
    "    print('min={}\\nMedian={}\\nmax={}'.format(df[colname].min(), df[colname].median(), df[colname].max()))\n",
    "    print('Number of inappropriately processed documents: {} ({:.2f}%)'.format(\\\n",
    "         len(df[(df[origin_colname]=='Something went wrong!')]), 100*len(df[(df[origin_colname]=='Something went wrong!')])/len(df)))\n",
    "    print('Median: {}\\n'.format(df[(df[colname]<=df[colname].median())].sort_values(by=[colname],ascending=False).iloc[0]['form_url']) )"
   ]
  },
  {
   "cell_type": "markdown",
   "id": "dfccfb74",
   "metadata": {},
   "source": [
    "잘 처리되지 못한 케이스 확인"
   ]
  },
  {
   "cell_type": "code",
   "execution_count": 6,
   "id": "cf93c8a3",
   "metadata": {},
   "outputs": [
    {
     "name": "stdout",
     "output_type": "stream",
     "text": [
      "23\n",
      "['Amcor' 'BNY Mellon' 'Cardinal Health' 'Citigroup' 'Eaton'\n",
      " 'Edison International' 'Entergy' 'GE' 'Honeywell' 'Illumina' 'Intel'\n",
      " 'Kimberly-Clark' \"McDonald's\" 'Molina Healthcare' 'Morgan Stanley'\n",
      " 'Netflix' 'Procter & Gamble' 'S&P Global' 'Synchrony' 'Target' 'Viatris'\n",
      " 'Vulcan Materials' 'Weyerhaeuser']\n"
     ]
    },
    {
     "data": {
      "text/plain": [
       "array(['https://www.sec.gov/Archives/edgar/data/1396009/000139600921000009/vmc-20201231x10k.htm',\n",
       "       'https://www.sec.gov/Archives/edgar/data/1396009/000139600920000006/vmc-20191231x10k.htm',\n",
       "       'https://www.sec.gov/Archives/edgar/data/106535/000156459022005707/wy-10k_20211231.htm',\n",
       "       'https://www.sec.gov/Archives/edgar/data/106535/000156459021006960/wy-10k_20201231.htm',\n",
       "       'https://www.sec.gov/Archives/edgar/data/106535/000156459020004822/wy-10k_20191231.htm'],\n",
       "      dtype=object)"
      ]
     },
     "execution_count": 6,
     "metadata": {},
     "output_type": "execute_result"
    }
   ],
   "source": [
    "colname = 'item1_business'\n",
    "print(len(df[(df[colname]=='Something went wrong!')]['CompanyName'].unique()))\n",
    "print(df[(df[colname]=='Something went wrong!')]['CompanyName'].unique())\n",
    "df[(df[colname]=='Something went wrong!')]['form_url'].values[-5:]"
   ]
  },
  {
   "cell_type": "code",
   "execution_count": 7,
   "id": "8c427348",
   "metadata": {},
   "outputs": [
    {
     "name": "stdout",
     "output_type": "stream",
     "text": [
      "13\n",
      "['Cardinal Health' 'Citigroup' 'Edison International' 'GE' 'Honeywell'\n",
      " 'Illumina' 'Intel' \"McDonald's\" 'Molina Healthcare' 'Morgan Stanley'\n",
      " 'Synchrony' 'Viatris' 'Weyerhaeuser']\n"
     ]
    },
    {
     "data": {
      "text/plain": [
       "array(['https://www.sec.gov/Archives/edgar/data/721371/000072137121000080/cah-20210630.htm',\n",
       "       'https://www.sec.gov/Archives/edgar/data/721371/000072137120000089/a20q410k063020form10-k.htm',\n",
       "       'https://www.sec.gov/Archives/edgar/data/831001/000083100122000036/c-20211231.htm',\n",
       "       'https://www.sec.gov/Archives/edgar/data/831001/000083100121000042/c-20201231.htm',\n",
       "       'https://www.sec.gov/Archives/edgar/data/831001/000083100120000031/c-12312019x10k.htm'],\n",
       "      dtype=object)"
      ]
     },
     "execution_count": 7,
     "metadata": {},
     "output_type": "execute_result"
    }
   ],
   "source": [
    "colname = 'item1a_risk'\n",
    "print(len(df[(df[colname]=='Something went wrong!')]['CompanyName'].unique()))\n",
    "print(df[(df[colname]=='Something went wrong!')]['CompanyName'].unique())\n",
    "df[(df[colname]=='Something went wrong!')]['form_url'].values[:5]"
   ]
  },
  {
   "cell_type": "code",
   "execution_count": 8,
   "id": "a5c0d3d2",
   "metadata": {
    "scrolled": true
   },
   "outputs": [
    {
     "name": "stdout",
     "output_type": "stream",
     "text": [
      "17\n",
      "['Cardinal Health' 'Chevron' 'Citigroup' 'Edison International' 'GE'\n",
      " 'Hartford (The)' 'Honeywell' 'Illumina' 'Intel' \"McDonald's\"\n",
      " 'Molina Healthcare' 'Morgan Stanley' 'Synchrony' 'U.S. Bank' 'Viatris'\n",
      " 'Wells Fargo' 'Weyerhaeuser']\n"
     ]
    },
    {
     "data": {
      "text/plain": [
       "array(['https://www.sec.gov/Archives/edgar/data/721371/000072137121000080/cah-20210630.htm',\n",
       "       'https://www.sec.gov/Archives/edgar/data/721371/000072137120000089/a20q410k063020form10-k.htm',\n",
       "       'https://www.sec.gov/Archives/edgar/data/93410/000009341022000019/cvx-20211231.htm',\n",
       "       'https://www.sec.gov/Archives/edgar/data/93410/000009341021000009/cvx-20201231.htm',\n",
       "       'https://www.sec.gov/Archives/edgar/data/93410/000009341020000010/cvx12312019-10kdoc.htm'],\n",
       "      dtype=object)"
      ]
     },
     "execution_count": 8,
     "metadata": {},
     "output_type": "execute_result"
    }
   ],
   "source": [
    "colname = 'item7_mda'\n",
    "print(len(df[(df[colname]=='Something went wrong!')]['CompanyName'].unique()))\n",
    "print(df[(df[colname]=='Something went wrong!')]['CompanyName'].unique())\n",
    "df[(df[colname]=='Something went wrong!')]['form_url'].values[:5]"
   ]
  },
  {
   "cell_type": "code",
   "execution_count": 9,
   "id": "2b15c987",
   "metadata": {},
   "outputs": [
    {
     "name": "stdout",
     "output_type": "stream",
     "text": [
      "13 {'Honeywell', 'Morgan Stanley', \"McDonald's\", 'Weyerhaeuser', 'Intel', 'Citigroup', 'Illumina', 'Molina Healthcare', 'Cardinal Health', 'GE', 'Edison International', 'Synchrony', 'Viatris'}\n"
     ]
    }
   ],
   "source": [
    "# 모든 섹션에 대해 파싱하지 못한 경우\n",
    "three_set = set(df[(df['item1_business']=='Something went wrong!')]['CompanyName'].unique()) & \\\n",
    "set(df[(df['item1a_risk']=='Something went wrong!')]['CompanyName'].unique()) & \\\n",
    "set(df[(df['item7_mda']=='Something went wrong!')]['CompanyName'].unique())\n",
    "print(len(three_set), three_set)"
   ]
  },
  {
   "cell_type": "code",
   "execution_count": 10,
   "id": "dde47988",
   "metadata": {},
   "outputs": [
    {
     "name": "stdout",
     "output_type": "stream",
     "text": [
      "0 set()\n"
     ]
    }
   ],
   "source": [
    "# Item 1 & Item 1a만 파싱 실패한 경우 -> Item 1a. risk factors 식별에 문제있는 케이스\n",
    "both_one_two = set(df[(df['item1_business']=='Something went wrong!')]['CompanyName'].unique()) \\\n",
    "& set(df[(df['item1a_risk']=='Something went wrong!')]['CompanyName'].unique()) - three_set\n",
    "print(len(both_one_two), both_one_two)"
   ]
  },
  {
   "cell_type": "code",
   "execution_count": 11,
   "id": "6cfe846d",
   "metadata": {},
   "outputs": [
    {
     "data": {
      "text/plain": [
       "{'Amcor',\n",
       " 'BNY Mellon',\n",
       " 'Eaton',\n",
       " 'Entergy',\n",
       " 'Kimberly-Clark',\n",
       " 'Netflix',\n",
       " 'Procter & Gamble',\n",
       " 'S&P Global',\n",
       " 'Target',\n",
       " 'Vulcan Materials'}"
      ]
     },
     "execution_count": 11,
     "metadata": {},
     "output_type": "execute_result"
    }
   ],
   "source": [
    "# Item 1만 파싱 실패한 경우 -> Item 1. business 식별에 문제있는 케이스\n",
    "set(df[(df['item1_business']=='Something went wrong!')]['CompanyName'].unique()) - three_set - both_one_two"
   ]
  },
  {
   "cell_type": "code",
   "execution_count": 12,
   "id": "662f915a",
   "metadata": {},
   "outputs": [
    {
     "data": {
      "text/plain": [
       "set()"
      ]
     },
     "execution_count": 12,
     "metadata": {},
     "output_type": "execute_result"
    }
   ],
   "source": [
    "# Item 1a만 파싱 실패한 경우 -> Item 1b | 2 식별에 문제있는 케이스\n",
    "set(df[(df['item1a_risk']=='Something went wrong!')]['CompanyName'].unique()) - three_set - both_one_two"
   ]
  },
  {
   "cell_type": "code",
   "execution_count": 13,
   "id": "147b393a",
   "metadata": {},
   "outputs": [
    {
     "data": {
      "text/plain": [
       "{'Chevron', 'Hartford (The)', 'U.S. Bank', 'Wells Fargo'}"
      ]
     },
     "execution_count": 13,
     "metadata": {},
     "output_type": "execute_result"
    }
   ],
   "source": [
    "# Item 7 파싱 실패한 경우 \n",
    "set(df[(df['item7_mda']=='Something went wrong!')]['CompanyName'].unique()) - three_set"
   ]
  },
  {
   "cell_type": "markdown",
   "id": "43ea7892",
   "metadata": {},
   "source": [
    "Item 7 내용이 너무 짧아서 파싱 실패한 케이스 (275 characters)\n",
    "* Item 7의 현재 최소 길이 조건은 5,000자. 최소 길이 조건을 200자로 줄이게 되면 목차 부분을 추출하는 오류가 다수 발생하게 될 것 \n",
    "```\n",
    "Item 7. Management’s Discussion and Analysis of Financial Condition and Results of Operations\n",
    "The index to Management’s Discussion and Analysis of Financial Condition and Results of Operations, Consolidated Financial Statements and Supplementary Data is presented on page 30. \n",
    "```"
   ]
  },
  {
   "cell_type": "code",
   "execution_count": 14,
   "id": "bd9f8489",
   "metadata": {},
   "outputs": [
    {
     "name": "stdout",
     "output_type": "stream",
     "text": [
      "https://www.sec.gov/Archives/edgar/data/93410/000009341021000009/cvx-20201231.htm\n"
     ]
    },
    {
     "data": {
      "text/html": [
       "<div>\n",
       "<style scoped>\n",
       "    .dataframe tbody tr th:only-of-type {\n",
       "        vertical-align: middle;\n",
       "    }\n",
       "\n",
       "    .dataframe tbody tr th {\n",
       "        vertical-align: top;\n",
       "    }\n",
       "\n",
       "    .dataframe thead th {\n",
       "        text-align: right;\n",
       "    }\n",
       "</style>\n",
       "<table border=\"1\" class=\"dataframe\">\n",
       "  <thead>\n",
       "    <tr style=\"text-align: right;\">\n",
       "      <th></th>\n",
       "      <th>form_type</th>\n",
       "      <th>CIK</th>\n",
       "      <th>filing_date</th>\n",
       "      <th>period_of_report</th>\n",
       "      <th>texts_only</th>\n",
       "      <th>image_urls</th>\n",
       "      <th>files_url</th>\n",
       "      <th>form_url</th>\n",
       "      <th>Ticker</th>\n",
       "      <th>CompanyName</th>\n",
       "      <th>item1_business</th>\n",
       "      <th>item1a_risk</th>\n",
       "      <th>item7_mda</th>\n",
       "      <th>len_item1</th>\n",
       "      <th>len_item1a</th>\n",
       "      <th>len_item7</th>\n",
       "    </tr>\n",
       "  </thead>\n",
       "  <tbody>\n",
       "    <tr>\n",
       "      <th>279</th>\n",
       "      <td>10-K</td>\n",
       "      <td>93410</td>\n",
       "      <td>2022-02-24</td>\n",
       "      <td>2021-12-31</td>\n",
       "      <td>cvx-202112310000093410false2021FYRefer to Note...</td>\n",
       "      <td>['https://www.sec.gov/Archives/edgar/data/9341...</td>\n",
       "      <td>https://www.sec.gov/Archives/edgar/data/93410/...</td>\n",
       "      <td>https://www.sec.gov/Archives/edgar/data/93410/...</td>\n",
       "      <td>CVX</td>\n",
       "      <td>Chevron</td>\n",
       "      <td>Item 1. BusinessGeneral Development of Busines...</td>\n",
       "      <td>Item 1A. Risk Factors on pages 20 through 25 f...</td>\n",
       "      <td>Something went wrong!</td>\n",
       "      <td>69992</td>\n",
       "      <td>29899</td>\n",
       "      <td>21</td>\n",
       "    </tr>\n",
       "    <tr>\n",
       "      <th>280</th>\n",
       "      <td>10-K</td>\n",
       "      <td>93410</td>\n",
       "      <td>2021-02-25</td>\n",
       "      <td>2020-12-31</td>\n",
       "      <td>cvx-202012310000093410false2020FYRefer to Note...</td>\n",
       "      <td>['https://www.sec.gov/Archives/edgar/data/9341...</td>\n",
       "      <td>https://www.sec.gov/Archives/edgar/data/93410/...</td>\n",
       "      <td>https://www.sec.gov/Archives/edgar/data/93410/...</td>\n",
       "      <td>CVX</td>\n",
       "      <td>Chevron</td>\n",
       "      <td>Item 1. BusinessGeneral Development of Busines...</td>\n",
       "      <td>Item 1A. Risk Factors on pages 18 through 23 f...</td>\n",
       "      <td>Something went wrong!</td>\n",
       "      <td>67444</td>\n",
       "      <td>30316</td>\n",
       "      <td>21</td>\n",
       "    </tr>\n",
       "    <tr>\n",
       "      <th>281</th>\n",
       "      <td>10-K</td>\n",
       "      <td>93410</td>\n",
       "      <td>2020-02-21</td>\n",
       "      <td>2019-12-31</td>\n",
       "      <td>Document P3Y10000000P8YP2Y14168000141680001416...</td>\n",
       "      <td>['https://www.sec.gov/Archives/edgar/data/9341...</td>\n",
       "      <td>https://www.sec.gov/Archives/edgar/data/93410/...</td>\n",
       "      <td>https://www.sec.gov/Archives/edgar/data/93410/...</td>\n",
       "      <td>CVX</td>\n",
       "      <td>Chevron</td>\n",
       "      <td>Item 1. BusinessGeneral Development of Busines...</td>\n",
       "      <td>Item 1A. Risk Factors on pages 18 through 21 f...</td>\n",
       "      <td>Something went wrong!</td>\n",
       "      <td>67085</td>\n",
       "      <td>21328</td>\n",
       "      <td>21</td>\n",
       "    </tr>\n",
       "  </tbody>\n",
       "</table>\n",
       "</div>"
      ],
      "text/plain": [
       "    form_type    CIK filing_date period_of_report  \\\n",
       "279      10-K  93410  2022-02-24       2021-12-31   \n",
       "280      10-K  93410  2021-02-25       2020-12-31   \n",
       "281      10-K  93410  2020-02-21       2019-12-31   \n",
       "\n",
       "                                            texts_only  \\\n",
       "279  cvx-202112310000093410false2021FYRefer to Note...   \n",
       "280  cvx-202012310000093410false2020FYRefer to Note...   \n",
       "281  Document P3Y10000000P8YP2Y14168000141680001416...   \n",
       "\n",
       "                                            image_urls  \\\n",
       "279  ['https://www.sec.gov/Archives/edgar/data/9341...   \n",
       "280  ['https://www.sec.gov/Archives/edgar/data/9341...   \n",
       "281  ['https://www.sec.gov/Archives/edgar/data/9341...   \n",
       "\n",
       "                                             files_url  \\\n",
       "279  https://www.sec.gov/Archives/edgar/data/93410/...   \n",
       "280  https://www.sec.gov/Archives/edgar/data/93410/...   \n",
       "281  https://www.sec.gov/Archives/edgar/data/93410/...   \n",
       "\n",
       "                                              form_url Ticker CompanyName  \\\n",
       "279  https://www.sec.gov/Archives/edgar/data/93410/...    CVX     Chevron   \n",
       "280  https://www.sec.gov/Archives/edgar/data/93410/...    CVX     Chevron   \n",
       "281  https://www.sec.gov/Archives/edgar/data/93410/...    CVX     Chevron   \n",
       "\n",
       "                                        item1_business  \\\n",
       "279  Item 1. BusinessGeneral Development of Busines...   \n",
       "280  Item 1. BusinessGeneral Development of Busines...   \n",
       "281  Item 1. BusinessGeneral Development of Busines...   \n",
       "\n",
       "                                           item1a_risk              item7_mda  \\\n",
       "279  Item 1A. Risk Factors on pages 20 through 25 f...  Something went wrong!   \n",
       "280  Item 1A. Risk Factors on pages 18 through 23 f...  Something went wrong!   \n",
       "281  Item 1A. Risk Factors on pages 18 through 21 f...  Something went wrong!   \n",
       "\n",
       "     len_item1  len_item1a  len_item7  \n",
       "279      69992       29899         21  \n",
       "280      67444       30316         21  \n",
       "281      67085       21328         21  "
      ]
     },
     "execution_count": 14,
     "metadata": {},
     "output_type": "execute_result"
    }
   ],
   "source": [
    "print(df[(df['CompanyName']=='Chevron')].iloc[1]['form_url'])\n",
    "df[(df['CompanyName']=='Chevron')]"
   ]
  },
  {
   "cell_type": "markdown",
   "id": "eaf82749",
   "metadata": {},
   "source": [
    "Item 7 뒤에 7A가 나와야하는데 대신 9A가 나와서 파싱 실패한 케이스"
   ]
  },
  {
   "cell_type": "code",
   "execution_count": 15,
   "id": "4c1696ae",
   "metadata": {},
   "outputs": [
    {
     "name": "stdout",
     "output_type": "stream",
     "text": [
      "https://www.sec.gov/Archives/edgar/data/874766/000087476621000022/hig-20201231.htm\n"
     ]
    },
    {
     "data": {
      "text/html": [
       "<div>\n",
       "<style scoped>\n",
       "    .dataframe tbody tr th:only-of-type {\n",
       "        vertical-align: middle;\n",
       "    }\n",
       "\n",
       "    .dataframe tbody tr th {\n",
       "        vertical-align: top;\n",
       "    }\n",
       "\n",
       "    .dataframe thead th {\n",
       "        text-align: right;\n",
       "    }\n",
       "</style>\n",
       "<table border=\"1\" class=\"dataframe\">\n",
       "  <thead>\n",
       "    <tr style=\"text-align: right;\">\n",
       "      <th></th>\n",
       "      <th>form_type</th>\n",
       "      <th>CIK</th>\n",
       "      <th>filing_date</th>\n",
       "      <th>period_of_report</th>\n",
       "      <th>texts_only</th>\n",
       "      <th>image_urls</th>\n",
       "      <th>files_url</th>\n",
       "      <th>form_url</th>\n",
       "      <th>Ticker</th>\n",
       "      <th>CompanyName</th>\n",
       "      <th>item1_business</th>\n",
       "      <th>item1a_risk</th>\n",
       "      <th>item7_mda</th>\n",
       "      <th>len_item1</th>\n",
       "      <th>len_item1a</th>\n",
       "      <th>len_item7</th>\n",
       "    </tr>\n",
       "  </thead>\n",
       "  <tbody>\n",
       "    <tr>\n",
       "      <th>599</th>\n",
       "      <td>10-K</td>\n",
       "      <td>874766</td>\n",
       "      <td>2022-02-18</td>\n",
       "      <td>2021-12-31</td>\n",
       "      <td>hig-2021123100008747662021FYfalse0000874766202...</td>\n",
       "      <td>['https://www.sec.gov/Archives/edgar/data/8747...</td>\n",
       "      <td>https://www.sec.gov/Archives/edgar/data/874766...</td>\n",
       "      <td>https://www.sec.gov/Archives/edgar/data/874766...</td>\n",
       "      <td>HIG</td>\n",
       "      <td>Hartford (The)</td>\n",
       "      <td>Item 1. BusinessCompanys results of operations...</td>\n",
       "      <td>Item 1A. Risk Factorschanges in the exchange r...</td>\n",
       "      <td>Item 7. Management's Discussion and Analysis o...</td>\n",
       "      <td>69508</td>\n",
       "      <td>71418</td>\n",
       "      <td>327105</td>\n",
       "    </tr>\n",
       "    <tr>\n",
       "      <th>600</th>\n",
       "      <td>10-K</td>\n",
       "      <td>874766</td>\n",
       "      <td>2021-02-19</td>\n",
       "      <td>2020-12-31</td>\n",
       "      <td>hig-202012310000874766--12-312020FYfalse000087...</td>\n",
       "      <td>['https://www.sec.gov/Archives/edgar/data/8747...</td>\n",
       "      <td>https://www.sec.gov/Archives/edgar/data/874766...</td>\n",
       "      <td>https://www.sec.gov/Archives/edgar/data/874766...</td>\n",
       "      <td>HIG</td>\n",
       "      <td>Hartford (The)</td>\n",
       "      <td>Item 1. BusinessTotal Group Benefits Reserves ...</td>\n",
       "      <td>Item 1A. Risk FactorsIn December 2020, based o...</td>\n",
       "      <td>Something went wrong!</td>\n",
       "      <td>69736</td>\n",
       "      <td>67691</td>\n",
       "      <td>21</td>\n",
       "    </tr>\n",
       "    <tr>\n",
       "      <th>601</th>\n",
       "      <td>10-K</td>\n",
       "      <td>874766</td>\n",
       "      <td>2020-02-21</td>\n",
       "      <td>2019-12-31</td>\n",
       "      <td>Document false--12-31FY20190000874766000.010.0...</td>\n",
       "      <td>['https://www.sec.gov/Archives/edgar/data/8747...</td>\n",
       "      <td>https://www.sec.gov/Archives/edgar/data/874766...</td>\n",
       "      <td>https://www.sec.gov/Archives/edgar/data/874766...</td>\n",
       "      <td>HIG</td>\n",
       "      <td>Hartford (The)</td>\n",
       "      <td>Item 1. BUSINESS(Dollar amounts in millions, e...</td>\n",
       "      <td>Item 1A. Risk FactorsFurther, if issuers of se...</td>\n",
       "      <td>Something went wrong!</td>\n",
       "      <td>70220</td>\n",
       "      <td>70537</td>\n",
       "      <td>21</td>\n",
       "    </tr>\n",
       "  </tbody>\n",
       "</table>\n",
       "</div>"
      ],
      "text/plain": [
       "    form_type     CIK filing_date period_of_report  \\\n",
       "599      10-K  874766  2022-02-18       2021-12-31   \n",
       "600      10-K  874766  2021-02-19       2020-12-31   \n",
       "601      10-K  874766  2020-02-21       2019-12-31   \n",
       "\n",
       "                                            texts_only  \\\n",
       "599  hig-2021123100008747662021FYfalse0000874766202...   \n",
       "600  hig-202012310000874766--12-312020FYfalse000087...   \n",
       "601  Document false--12-31FY20190000874766000.010.0...   \n",
       "\n",
       "                                            image_urls  \\\n",
       "599  ['https://www.sec.gov/Archives/edgar/data/8747...   \n",
       "600  ['https://www.sec.gov/Archives/edgar/data/8747...   \n",
       "601  ['https://www.sec.gov/Archives/edgar/data/8747...   \n",
       "\n",
       "                                             files_url  \\\n",
       "599  https://www.sec.gov/Archives/edgar/data/874766...   \n",
       "600  https://www.sec.gov/Archives/edgar/data/874766...   \n",
       "601  https://www.sec.gov/Archives/edgar/data/874766...   \n",
       "\n",
       "                                              form_url Ticker     CompanyName  \\\n",
       "599  https://www.sec.gov/Archives/edgar/data/874766...    HIG  Hartford (The)   \n",
       "600  https://www.sec.gov/Archives/edgar/data/874766...    HIG  Hartford (The)   \n",
       "601  https://www.sec.gov/Archives/edgar/data/874766...    HIG  Hartford (The)   \n",
       "\n",
       "                                        item1_business  \\\n",
       "599  Item 1. BusinessCompanys results of operations...   \n",
       "600  Item 1. BusinessTotal Group Benefits Reserves ...   \n",
       "601  Item 1. BUSINESS(Dollar amounts in millions, e...   \n",
       "\n",
       "                                           item1a_risk  \\\n",
       "599  Item 1A. Risk Factorschanges in the exchange r...   \n",
       "600  Item 1A. Risk FactorsIn December 2020, based o...   \n",
       "601  Item 1A. Risk FactorsFurther, if issuers of se...   \n",
       "\n",
       "                                             item7_mda  len_item1  len_item1a  \\\n",
       "599  Item 7. Management's Discussion and Analysis o...      69508       71418   \n",
       "600                              Something went wrong!      69736       67691   \n",
       "601                              Something went wrong!      70220       70537   \n",
       "\n",
       "     len_item7  \n",
       "599     327105  \n",
       "600         21  \n",
       "601         21  "
      ]
     },
     "execution_count": 15,
     "metadata": {},
     "output_type": "execute_result"
    }
   ],
   "source": [
    "print(df[(df['CompanyName']=='Hartford (The)')].iloc[1]['form_url'])\n",
    "df[(df['CompanyName']=='Hartford (The)')]"
   ]
  },
  {
   "cell_type": "markdown",
   "id": "53f8ab8e",
   "metadata": {},
   "source": [
    "잘 처리된 문서 개수"
   ]
  },
  {
   "cell_type": "code",
   "execution_count": 16,
   "id": "08ea060c",
   "metadata": {},
   "outputs": [
    {
     "name": "stdout",
     "output_type": "stream",
     "text": [
      "item1_business,1295 (96.50%)\n",
      "item1a_risk,1308 (97.47%)\n",
      "item7_mda,1296 (96.57%)\n"
     ]
    }
   ],
   "source": [
    "for origin_colname in ['item1_business', 'item1a_risk', 'item7_mda']:\n",
    "    print('{},{} ({:.2f}%)'.format(origin_colname, len(df[(df[origin_colname]!='Something went wrong!')]), \\\n",
    "                              100*len(df[(df[origin_colname]!='Something went wrong!')])/len(df)))"
   ]
  },
  {
   "cell_type": "markdown",
   "id": "5028e006",
   "metadata": {},
   "source": [
    "최소 길이 조건을 통과한 케이스"
   ]
  },
  {
   "cell_type": "code",
   "execution_count": 17,
   "id": "5280fcd5",
   "metadata": {},
   "outputs": [
    {
     "name": "stdout",
     "output_type": "stream",
     "text": [
      "len_item1\n",
      "[10017 10407 11120 11182 11789 12011 12163 12254 12289 12791]\n",
      "len_item1a\n",
      "[ 280  280  282  295  296  297 6981 7751 8444 8652]\n",
      "len_item7\n",
      "[ 6570  7949  8294  8757  9518  9568  9678 10548 11493 11942]\n"
     ]
    }
   ],
   "source": [
    "for colname, origin_colname in [('len_item1', 'item1_business'), ('len_item1a', 'item1a_risk'), \\\n",
    "                                ('len_item7', 'item7_mda')]:\n",
    "    print(colname)\n",
    "    print(df[(df[colname]>21)].sort_values(by=[colname])[colname].values[:10])"
   ]
  },
  {
   "cell_type": "markdown",
   "id": "57aa2d5a",
   "metadata": {},
   "source": [
    "목차 부분을 추출해온 탓에 최소 길이 조건을 간신히 통과한 것은 아닌지 확인"
   ]
  },
  {
   "cell_type": "code",
   "execution_count": 20,
   "id": "a3941c7b",
   "metadata": {},
   "outputs": [
    {
     "name": "stdout",
     "output_type": "stream",
     "text": [
      "len_item1\n",
      "https://www.sec.gov/Archives/edgar/data/723254/000072325420000025/ctas-20200531.htm\n",
      "10017 Item 1.Business3Item 1A.Risk Factors5Item 1B.Unresolved Staff Comments10Item 2.Properties11Item 3.Legal Proceedings12Item 4.Mine Safety Disclosures 12Part II Item 5.Market for Registrant's Common Equity, Related Stockholder Matters and Issuer Purchases of Equity Securities13Item 6.Selected Financial Data15Item 7.Management's Discussion and Analysis of Financial Condition and Results of Operations16Item 7A.Quantitative and Qualitative Disclosures About Market Risk30Item 8.Financial Statements and Supplementary Data31Item 9.Changes in and Disagreements with Accountants on Accounting and Financial Disclosure70Item 9A.Controls and Procedures70Item 9B.Other Information70Part III Item 10.Directors, Executive Officers and Corporate Governance71Item 11.Executive Compensation71Item 12.Security Ownership of Certain Beneficial Owners and Management and Related Stockholder Matters71Item 13.Certain Relationships and Related Transactions and Director Independence71Item 14.Principal Accountant Fees and Services71Part IV Item 15.Exhibits and Financial Statement Schedules72Item 16.Form 10-K Summary752Part IItem 1.  BusinessCintas Corporation (Cintas, Company, we, us or our), a Washington corporation, helps more than one million businesses of all types and sizes, primarily in the United States (U.S.), as well as Canada, Latin America, Europe and Asia, get READYTM to open their doors with confidence every day by providing a wide range of products and services that enhance our customers image and help keep their facilities and employees clean, safe and looking their best. With products and services including uniforms, mats, mops, restroom supplies, first aid and safety products, fire extinguishers and testing, and training and compliance courses, Cintas helps customers get Ready for the Workday. Cintas was founded in 1968 by Richard T. Farmer, currently the Chairman Emeritus of the Board of Directors, when he left his family's industrial laundry business in order to develop uniform programs using an exclusive new fabric. In the early 1970's, Cintas acquired the family industrial laundry business. Over the years, Cintas developed additional products and services that complemented its core uniform business and broadened the scope of products and services available to its customers.Cintas reportable operating segments are the Uniform Rental and Facility Services operating segment and the First Aid and Safety Services operating segment. The Uniform Rental and Facility Services reportable operating segment consists of the rental and servicing of uniforms and other garments, including flame resistant clothing, mats, mops and shop towels and other ancillary items. In addition to these rental items, restroom cleaning services and supplies, carpet and tile cleaning services and the sale of items from our catalogs to our customers on route are included within this reportable operating segment. The First Aid and Safety Services reportable operating segment consists of first aid and safety products and services. The remainder of Cintas business, which consists of the Fire Protection Services operating segment and the Uniform Direct Sale operating segment, is included in All Other. In December 2019, a novel strain of coronavirus (COVID-19) was reported to have surfaced in Wuhan, China, and has since spread globally. In March 2020, the World Health Organization characterized COVID-19 as a pandemic. Through the first three quarters of fiscal 2020, the COVID-19 pandemic did not have a significant impact on our business. However, efforts to contain the spread of COVID-19 intensified during our fiscal 2020 fourth quarter. Most states and municipalities within the U.S. enacted temporary closures of businesses, issued quarantine orders and took other restrictive measures in response to the COVID-19 pandemic. Within the U.S., our business has been designated an essential business, which allows us to continue to serve customers that remain open.We have operations throughout the U.S. and participate in a global supply chain. During the fourth quarter of fiscal 2020, the existence of the COVID-19 pandemic, the fear associated with the COVID-19 pandemic and the reactions of governments around the world in response to the COVID-19 pandemic to regulate the flow of labor and products and impede the business of our customers, impacted our ability to conduct normal business operations, which had an adverse effect on our business. If we need to close any of our facilities or a critical number of our employees become too ill to work, our business operations could be materially adversely affected in a rapid manner. Similarly, if our customers experience adverse business consequences due to the COVID-19 pandemic, including being required to shut down their operations, demand for our services and products could also be materially adversely affected in a rapid manner. The impact of the COVID-19 pandemic is fluid and continues to evolve, and therefore, we cannot predict the extent to which our business, results of operations, financial condition or liquidity will ultimately be impacted. For more information, see the sections entitled Managements Discussion and Analysis of Financial Condition and Results of Operations, and Risk Factors within this Annual Report on Form 10-K.  We provide our products and services to over one million businesses of all types, from small service and manufacturing companies to major corporations that employ thousands of people. This diversity in customer base results in no individual customer accounting for greater than one percent of Cintas' total revenue. As a result, the loss of one account would not have a significant financial impact on Cintas.3The following table sets forth Cintas' total revenue and the revenue derived from each reportable operating segment and the remaining operating segments included in the All Other category for the fiscal years ended May 31:(In thousands)202020192018Uniform Rental and Facility Services$5,643,494  $5,552,430  $5,247,124  First Aid and Safety Services708,569  619,470  564,706  All Other733,057  720,403  664,802  Total Revenue $7,085,120  $6,892,303  $6,476,632  Additional information regarding each reportable operating segment and All Other is also included in Note 14 entitled Operating Segment Information of \"Notes to Consolidated Financial Statements.\"The primary markets served by all Cintas businesses are local in nature and highly fragmented. Cintas competes with national, regional and local providers, and the level of competition varies at each of Cintas' local operations. Product, design, price, quality, service and convenience to the customer are the competitive elements in each of our businesses.Within the Uniform Rental and Facility Services reportable operating segment, Cintas provides its products and services to customers via local delivery routes originating from rental processing plants and branches. Within the First Aid and Safety Services reportable operating segment and All Other, Cintas provides its products and services via its distribution network and local delivery routes or local representatives. At May 31, 2020, Cintas, in total, had approximately 11,100 local delivery routes, 472 operational facilities and 12 distribution centers, and Cintas employed approximately 40,000 employee-partners, of which approximately 1,200 were represented by labor unions.Cintas sources finished products from many outside suppliers. In addition, Cintas operates five manufacturing facilities that provide for standard uniform needs. Cintas purchases fabric, used in the manufacturing of its products, from several suppliers. Cintas is not aware of any circumstances that would hinder its ability to continue obtaining these materials.Cintas is subject to various environmental laws and regulations, as are other companies in the uniform rental industry. While environmental compliance is not a material component of its costs, Cintas must incur capital expenditures and associated operating costs, primarily for water treatment and waste removal, on a regular basis. Environmental spending related to water treatment and waste removal was approximately $20 million in fiscal 2020, approximately $21 million in fiscal 2019 and approximately $20 million in fiscal 2018. Capital expenditures to limit or monitor hazardous substances totaled approximately $3 million in fiscal 2020, approximately $10 million in fiscal 2019 and approximately $2 million in fiscal 2018. Cintas uses its corporate website, www.cintas.com, as a channel for routine distribution of important information, including news releases, analyst presentations and financial information. Cintas files with or furnishes to the Securities and Exchange Commission (SEC) Annual Reports on Form 10-K, Quarterly Reports on Form 10-Q, Current Reports on Form 8-K and any amendments to those reports, as well as proxy statements and annual reports to shareholders, and, from time to time, other documents. The reports and other documents filed with or furnished to the SEC are available to investors on or through our corporate website free of charge as soon as reasonably practicable after we electronically file them with or furnish them to the SEC. The SEC maintains an internet site located at www.sec.gov that contains reports, proxy and information statements and other information regarding issuers, such as Cintas, that file electronically with the SEC. Cintas' SEC filings can be found on the Investors page of its website at www.cintas.com/investors/financials.aspx and its Code of Conduct and Business Ethics can be found on the About Us page of its website at www.cintas.com/company. These documents are available in print to any shareholder who requests a copy by writing or calling Cintas as set forth on the Investor Information page. The content on any website referred to in this Annual Report on Form 10-K is not incorporated by reference into this Form 10-K unless expressly noted. 4 \n",
      "\n",
      "https://www.sec.gov/Archives/edgar/data/783280/000078328020000010/a10k2019.htm\n",
      "10407 Item 1.  BusinessBackgroundThe General Partner and Partnership collectively specialize in the ownership, management and development of bulk distribution (\"industrial\") real estate. The General Partner is a self-administered and self-managed REIT, which began operations upon completion of an initial public offering in February 1986.  The Partnership was formed in October 1993, when the General Partner contributed all of its properties and related assets and liabilities, together with the net proceeds from an offering of additional shares of its common stock, to the Partnership. Simultaneously, the Partnership completed the acquisition of Duke Associates, a full-service commercial real estate firm operating in the Midwest whose operations began in 1972. The General Partner is the sole general partner of the Partnership, owning 99.2% of the Common Units at December 31, 2019. The remaining 0.8% of the Common Units are owned by limited partners. Limited partners have the right to redeem their Limited Partner Units, subject to certain restrictions. Pursuant to the Fifth Amended and Restated Agreement of Limited Partnership, as amended (the \"Partnership Agreement\"), the General Partner is obligated to redeem the Limited Partner Units in shares of its common stock, unless it determines in its reasonable discretion that the issuance of shares of its common stock could cause it to fail to qualify as a REIT. Each Limited Partner Unit shall be redeemed for one share of the General Partner's common stock, or, in the event that the issuance of shares could cause the General Partner to fail to qualify as a REIT, cash equal to the fair market value of one share of the General Partner's common stock at the time of redemption, in each case, subject to certain adjustments described in the Partnership Agreement. The Limited Partner Units are not required, per the terms of the Partnership Agreement, to be redeemed in registered shares of the General Partner. At December 31, 2019, we owned or jointly controlled 519 primarily industrial properties which encompassed 155.3 million rentable square feet (including 38 unconsolidated joint venture in-service properties with 11.0 million square feet, 21 consolidated properties under development with 8.7 million square feet and one unconsolidated joint venture property under development with 133,000 square feet). Our properties are leased by a diverse base of more than 800 tenants whose businesses include e-commerce, manufacturing, retailing, wholesale trade, and distribution. We also owned, including through ownership interests in unconsolidated joint ventures (with acreage not adjusted for our percentage ownership interest), 1,380 acres of land and controlled an additional 1,000 acres through purchase options.Our headquarters and executive offices are located in Indianapolis, Indiana. We additionally have regional offices or significant operations in 19 other geographic or metropolitan areas including Atlanta, Georgia; Chicago, Illinois; Cincinnati, Ohio; Columbus, Ohio; Dallas, Texas; Houston, Texas; Minneapolis/St. Paul, Minnesota; Nashville, Tennessee; Raleigh, North Carolina; Savannah, Georgia; Seattle, Washington; St. Louis, Missouri; Washington D.C./Baltimore, Maryland; Central Florida; New Jersey; Northern and Southern California; Pennsylvania and South Florida. We had approximately 400 employees at December 31, 2019.See Item 7, \"Management's Discussion and Analysis of Financial Condition and Results of Operations\" for information related to our operational, asset and capital strategies.-3-Competitive ConditionsAs a fully integrated commercial real estate firm, we provide in-house leasing, management, development and construction services which we believe, coupled with our significant base of commercially zoned and unencumbered land in existing business parks, should give us a competitive advantage as a real estate operator and in future development activities.We believe that the management of real estate opportunities and risks can be done most effectively at regional or on local levels. As a result, we intend to continue our emphasis on increasing our market share, to the extent it is in markets that align with our asset strategy (see Item 7), and effective rents in the primary markets where we own properties. We believe that this regional focus will allow us to assess market supply and demand for real estate more effectively as well as to capitalize on the strong relationships with our tenant base. In addition, we seek to further capitalize on our many strong relationships with customers that operate on a national level. As a fully integrated real estate company, we are able to arrange for or provide to our tenants not only well located and well maintained facilities, but also additional services such as build-to-suit construction, tenant finish construction, and expansion flexibility.All of our properties are located in areas that include competitive properties. Institutional investors, other REITs or local real estate operators generally own such properties; however, no single competitor or small group of competitors is dominant in our current markets. The supply of and demand for similar available rental properties may affect the rental rates we will receive on our properties. Other competitive factors include the attractiveness of the property location, the quality of the property and tenant services provided, and the reputation of the owner and operator. Corporate GovernanceSince our inception, we not only have strived to be a top-performer operationally, but also to lead in issues important to investors such as disclosure and corporate governance. The General Partner's system of governance reinforces this commitment and, as a limited partnership that has one general partner owning over 90% of the Partnership's common interest, the governance of the Partnership is necessarily linked to the corporate governance of the General Partner. Summarized below are the highlights of the General Partner's Corporate Governance initiatives. -4-Board Composition    The General Partner's board is controlled by a supermajority (92.3%) of \"Independent Directors,\" as such term is defined under the rules of the New York Stock Exchange (the \"NYSE\")  31% of the General Partners board is female and its compensation and human capital committee is chaired by a female  Board Committees    The General Partner's board committee members are all Independent Directors  Lead Director   The Lead Director serves as the Chairman of the General Partner's corporate governance committee  Board Policies - Proactively amended and restated the General Partner's Bylaws to implement proxy access- Adopted a Board Diversity and Inclusion Policy- No Shareholder Rights Plan (Poison Pill)- Code of Business Ethics applies to all directors and employees of the General Partner, including the Chief Executive Officer and senior financial officers; waivers applied to executive officers require the approval of (i) the General Partner's board of directors or (ii) the General Partner's corporate governance committee- Orientation program for new directors of the General Partner- Independence of directors of the General Partner is reviewed annually- Independent Directors of the General Partner meet at least quarterly in executive sessions- Independent Directors of the General Partner receive no compensation from the General Partner other than as directors- Equity-based compensation plans require the approval of the General Partner's shareholders- Board effectiveness and performance is reviewed annually by the General Partner's corporate governance committee- Individual director evaluations are performed annually- The General Partner's corporate governance committee conducts an annual review of the Chief Executive Officer succession plan- Independent Directors and all board committees of the General Partner may retain outside advisors, as they deem appropriate- Prohibition on repricing of outstanding stock options of the General Partner- Directors of the General Partner required to offer resignation upon job change- Majority voting for election of directors of the General Partner- Human Rights Policy- Shareholder Communications Policy   Ownership Minimum Stock Ownership Guidelines apply to all directors and executive officers of the General PartnerThe General Partner's Code of Business Ethics (which applies to all directors and employees of the General Partner, including the Chief Executive Officer and senior financial officers) and the Corporate Governance Guidelines are available in the Investor Relations/Corporate Governance section of the General Partner's website at www.dukerealty.com. A copy of these documents may also be obtained without charge by writing to Duke Realty Corporation, 8711 River Crossing Boulevard, Indianapolis, Indiana 46240, Attention: Investor Relations.  If we amend our Code of Business Ethics as it applies to the directors and all executive officers of the General Partner or grant a waiver from any provision of the Code of Business Ethics to any such person, we may, rather than filing a current report on Form 8-K, disclose such amendment or waiver in the Investor Relations/Corporate Governance section of the General Partner's website at www.dukerealty.com. Additional InformationFor additional information regarding our investments and operations, see Item 7, \"Management's Discussion and Analysis of Financial Condition and Results of Operations\" and Item 8, \"Financial Statements and Supplementary Data.\" For additional information about our business segments, see Item 8, \"Financial Statements and Supplementary Data - Notes to Consolidated Financial Statements - (9) Segment Reporting.\"-5-Available InformationIn addition to this Report, we file quarterly and current reports, proxy statements and other information with the SEC. All documents that are filed with the SEC are available free of charge on the General Partner's corporate website, which is www.dukerealty.com. We are not incorporating the information on the General Partner's website into this Report, and the General Partner's website and the information appearing on the General Partner's website is not included in, and is not part of, this Report. You may also access any document filed through the SEC's home page on the Internet (http://www.sec.gov).  \n",
      "\n",
      "https://www.sec.gov/Archives/edgar/data/51143/000155837022001584/ibm-20211231x10k.htm\n",
      "11120 Item 1. Business1Item 1A. Risk Factors3Item 1B. Unresolved Staff Comments10Item 2. Properties10Item 3. Legal Proceedings10Item 4. Mine Safety Disclosures10PART II11Item 5. Market for Registrants Common Equity, Related Stockholder Matters and Issuer Purchases of Equity Securities11Item 6. [Reserved]11Item 7. Managements Discussion and Analysis of Financial Condition and Results of Operations11Item 7A. Quantitative and Qualitative Disclosures About Market Risk11Item 8. Financial Statements and Supplementary Data12Item 9. Changes in and Disagreements with Accountants on Accounting and Financial Disclosure12Item 9A. Controls and Procedures12Item 9B. Other Information12Item 9C. Disclosure Regarding Foreign Jurisdictions that Prevent Inspections12PART III13Item 10. Directors, Executive Officers and Corporate Governance13Item 11. Executive Compensation13Item 12. Security Ownership of Certain Beneficial Owners and Management and Related Stockholder Matters13Item 13. Certain Relationships and Related Transactions, and Director Independence15Item 14. Principal Accounting Fees and Services16PART IV17Item 15. Exhibits17Item 16. Form 10-K Summary24SIGNATURESREPORT OF INDEPENDENT REGISTERED PUBLIC ACCOUNTING FIRM ON FINANCIAL STATEMENT SCHEDULESCHEDULE IIS-1i Table of ContentsPART IItem 1. Business:International Business Machines Corporation (IBM or the company) was incorporated in the State of New York on June 16, 1911, as the Computing-Tabulating-Recording Co. (C-T-R), a consolidation of the Computing Scale Co. of America, the Tabulating Machine Co. and The International Time Recording Co. of New York. Since that time, IBM has focused on the intersection of business insight and technological innovation, and its operations and aims have been international in nature. This was signaled almost 100 years ago, in 1924, when C-T-R changed its name to International Business Machines Corporation. And it continues todaywe create sustained value for clients by helping them leverage the power of hybrid cloud and artificial intelligence (AI). Our hybrid cloud platform and AI technology support clients digital transformations and helps them reimagine critical workflows, at scale, and modernize applications to increase agility, drive innovation and create operational efficiencies. Our offerings draw from leading IBM capabilities in software, consulting services capability to deliver business outcomes, and deep incumbency in mission-critical infrastructure, all bolstered by one of the worlds leading research organizations.The following information is included in IBMs 2021 Annual Report to Stockholders and is incorporated by reference:IBM Strategypages 11 to 13.Business Segments and Capabilitiespages 13 to 15.Human Capitalpages 15 to 16.  CompetitionIBM is a globally integrated enterprise that participates in a highly competitive environment, where our competitors vary by industry segment, and range from large multinational enterprises to smaller, more narrowly focused entities. Overall, across our business segments, we recognize hundreds of competitors worldwide.Our principal methods of competition are: technology innovation; performance; price; quality; brand; our broad range of capabilities, products and services; talent; client relationships and trust; the ability to deliver business value to clients; and service and support. In order to maintain leadership, we are optimizing our portfolio with organic and inorganic innovations, shifting resources, embedding AI and cloud into our offerings while building new solutions and modernizing our existing platforms. These investments not only drive current performance, but will extend our innovation leadership into the future. We differentiate from other providers, as our breadth and depth of expertise enables us to take different technologies and bring them together to solve the most pressing business issues of our clients. We leverage a flexible, secure, and open hybrid cloud platform and scale up solutions integrating (1) data, (2) AI for production and automation, (3) deep expertise in industries and business processes, (4) trust and security, along with (5) a broad ecosystem of partners and alliances. All of these actions have positioned IBM for accelerated growth now with hybrid cloud and AI while preparing us for the next set of business opportunities, such as quantum computing.As we execute our strategy as a hybrid cloud and AI company, we are regularly exposed to new competitors. Overall, the company is the leader or among the leaders in each of our business segments.A summary of the competitive environment for each business segment is included below:Software:The depth, breadth, and innovation of our software offerings, coupled with our global reach, deep industry expertise and research capabilities help differentiate our offerings from our competitors. Our hybrid cloud platform based on open 1 Table of Contentstechnologies allows clients to realize their digital and AI transformations across the applications, data, and environments in which they operate. The principal competitors in this segment include Alphabet Inc. (Google), Amazon.com, Inc. (Amazon), BMC, Broadcom, Cisco Systems, Inc. (Cisco), Informatica, Microsoft Corporation (Microsoft), Oracle Corporation (Oracle), Palo Alto Networks, Salesforce, SAP, Splunk and VMware. We also compete with smaller, niche competitors in specific geographic regions or product segments.Consulting:Consulting has simplified our focus to center on strategy, experience, technology and operations to make our huge range of capabilities easier for clients to navigate. Today, Consulting competes in consulting, systems integration, application management and business process outsourcing services. We compete with broad-based competitors including: Accenture, Capgemini, India-based service providers, management consulting firms, the consulting practices of public accounting firms, and many companies that primarily focus on local markets or niche service areas.Infrastructure:IBM is well positioned in the growing hybrid cloud infrastructure market, providing on-premises and cloud-based server and storage solutions for clients mission-critical and regulated workloads. In addition, we offer a portfolio of support services and solutions for hybrid cloud infrastructure. Our principal competitors include Dell Technologies, Hewlett-Packard Enterprise (HPE), Intel and original device manufacturer systems that are often re-branded. Further, as-a-Service providers, such as Amazon, Google and Microsoft are leveraging innovation in technology and service delivery to compete with traditional providers and to offer new routes to market for server and storage systems. We gain advantage and differentiation through investments in higher-value capabilities, including security, scalability, and reliability, designed especially for mission-critical and regulated workloads.Financing:Financing provides client and commercial financing, facilitating IBM clients acquisition of IT systems, software and services. Financings ability to manage credit and residual value risk generates a competitive advantage for the company. The key competitive factors include interest rates charged, IT product experience, client service, contract flexibility, ease of doing business, global capabilities and residual values. In client and commercial financing, Financing primarily competes with non-captive financing entities and financial institutions.Forward-looking and Cautionary StatementsCertain statements contained in this Form 10-K may constitute forward-looking statements within the meaning of the Private Securities Litigation Reform Act of 1995 (Reform Act). Forward-looking statements are based on the companys current assumptions regarding future business and financial performance. These statements by their nature address matters that are uncertain to different degrees. The company may also make forward-looking statements in other reports filed with the Securities and Exchange Commission (SEC), in materials delivered to stockholders and in press releases. In addition, the companys representatives may from time to time make oral forward-looking statements. Forward-looking statements provide current expectations of future events based on certain assumptions and include any statement that does not directly relate to any historical or current fact. Words such as anticipates, believes, expects, estimates, intends, plans, projects, and similar expressions, may identify such forward-looking statements. Any forward-looking statement in this Form 10-K speaks only as of the date on which it is made. Except as required by law, the company assumes no obligation to update or revise any forward-looking statements. In accordance with the Reform Act, set forth under Item 1A. Risk Factors on pages 3 to 10 are cautionary statements that accompany those forward-looking statements. Readers should carefully review such cautionary statements as they identify certain important factors that could cause actual results to differ materially from those in the forward-looking statements and from historical trends. Those cautionary statements are not exclusive and are in addition to other factors discussed elsewhere in this Form 10-K, in the companys filings with the SEC or in materials incorporated therein by reference.2 Table of ContentsThe following information is included in IBMs 2021 Annual Report to Stockholders and is incorporated herein by reference:Segment information and revenue by classes of similar products or servicespages 87 to 90.Financial information regarding environmental activitiespage 112.The number of persons employed by the registrantpage 15.The management discussion overviewpages 8 to 11.Website information and company reportingpage 139.Executive Officers of the Registrant (at February 22, 2022):    Age    Officer sinceArvind Krishna, Chairman of the Board and Chief Executive Officer*592020Michelle H. Browdy, Senior Vice President, Legal and Regulatory Affairs, and General Counsel572015Gary D. Cohn, Vice Chairman 612021Robert F. Del Bene, Vice President and Controller622017James J. Kavanaugh, Senior Vice President and Chief Financial Officer, Finance and Operations552008Nickle J. LaMoreaux, Senior Vice President and Chief Human Resources Officer422020Tom Rosamilia, Senior Vice President, IBM Software and Chairman, North America612021*     Member of the Board of Directors.All executive officers are elected by the Board of Directors annually as provided in the Companys By-laws. Each executive officer named above, with the exception of Gary D. Cohn, has been an executive of IBM or its subsidiaries during the past five years. Mr. Cohn is Co-Chairman of Cohn Robbins Holding Corp, a special-purpose acquisition company. Mr. Cohn previously served as Assistant to the President for Economic Policy and Director of the National Economic Council from January 2017 until April 2018. Before serving in the White House, Mr. Cohn was President and Chief Operating Officer of The Goldman Sachs Group, Inc. from 2006-2016. \n",
      "\n",
      "https://www.sec.gov/Archives/edgar/data/1390777/000139077720000044/form10-k4q19.htm\n",
      "11182 Item 1.Business5Item 1A.Risk factors7Item 1B.Unresolved staff comments7Item 2.Properties7Item 3.Legal proceedings8Item 4.Mine safety disclosures8      PART II     Item 5.Market for registrants common equity, related stockholder matters and issuer purchases of equity securities9Item 6.Selected financial data9Item 7.Managements discussion and analysis of financial condition and results of operations9Item 7A.Quantitative and qualitative disclosures about market risk9Item 8.Financial statements and supplementary data9Item 9.Changes in and disagreements with accountants on accounting and financial disclosure9Item 9A.Controls and procedures9Item 9B.Other information10      PART III     Item 10.Directors, executive officers and corporate governance11Item 11.Executive compensation13Item 12.Security ownership of certain beneficial owners and management and related stockholder matters13Item 13.Certain relationships and related transactions, and director independence13Item 14.Principal accounting fees and services13      PART IV     Item 15.Exhibits, financial statement schedules14Item 16.Form 10-K summary14Index to exhibits15Signatures24PART I ITEM 1. BUSINESSDescription of BusinessThe Bank of New York Mellon Corporation, a Delaware corporation (NYSE symbol: BK), is a global company headquartered in New York, New York, with $37.1 trillion in assets under custody and/or administration and $1.9 trillion in assets under management as of Dec. 31, 2019.  With its subsidiaries, BNY Mellon has been in business since 1784.  We divide our businesses into two business segments, Investment Services and Investment Management.  We also have an Other segment, which includes the leasing portfolio, corporate treasury activities (including our securities portfolio), derivatives and other trading activity, corporate and bank-owned life insurance, renewable energy investments and business exits.For a further discussion of BNY Mellons lines of business, products and services, see the Overview, Summary of financial highlights, Fee and other revenue, Review of businesses and International operations sections in the MD&A section in the Annual Report and Notes 24 and 25 of the Notes to Consolidated Financial Statements in the Annual Report, of which portions are incorporated herein by reference.  See the Available Information section on page 1 of this Form 10-K, which is incorporated herein by reference, for a description of how to access financial and other information regarding BNY Mellon. Our two principal U.S. banking subsidiaries engage in trust and custody activities, investment management services, banking services and various securities-related activities.  Our two principal U.S. banking subsidiaries are:The Bank of New York Mellon, a New York state-chartered bank, which houses our Investment Services businesses, including Asset Servicing, Issuer Services, Treasury Services, Clearance and Collateral Management, as well as the bank-advised business of Asset Management; and BNY Mellon, National Association (BNY Mellon, N.A.), a national bank, which houses our Wealth Management business.  We have four other U.S. bank and/or trust company subsidiaries concentrating on trust products and services across the United States: The Bank of New York Mellon Trust Company, National Association, BNY Mellon Trust of Delaware, BNY Mellon Investment Servicing Trust Company and BNY Mellon Trust Company of Illinois.  Most of our asset management businesses, along with our Pershing businesses, are direct or indirect non-bank subsidiaries of BNY Mellon.Each of our bank and trust company subsidiaries is subject to regulation by the applicable bank regulatory authority.  The deposits of our U.S. banking subsidiaries are insured by the Federal Deposit Insurance Corporation to the extent provided by law.BNY Mellons banking subsidiaries outside the United States are subject to regulation by non-U.S. regulatory authorities in addition to the Board of Governors of the Federal Reserve System (the Federal Reserve).  The Bank of New York Mellon SA/NV (BNY Mellon SA/NV) is the main banking subsidiary of The Bank of New York Mellon in continental Europe.  It is authorized and regulated as a credit institution by the National Bank of Belgium and is also supervised by the European Central Bank.  BNY Mellon SA/NV has its principal office in Brussels and branches in Amsterdam, the Netherlands; Dublin, Ireland; Frankfurt, Germany; London, England; the City of Luxembourg, Luxembourg; Milan, Italy; and Paris, France.  BNY Mellon SA/NVs activities are in the Investment Services segment of BNY Mellon with a focus on global custody, asset servicing and collateral management.  For additional discussion, see the MD&A Supervision and Regulation section in the Annual Report.Primary SubsidiariesExhibit 21.1 to this Form 10-K presents a list of BNY Mellons primary subsidiaries as of Dec. 31, 2019.BNY Mellon  5Supervision and RegulationInformation on the supervision and regulation of BNY Mellon can be found in the MD&A  Supervision and Regulation section in the Annual Report, which is incorporated herein by reference.CompetitionBNY Mellon is subject to competition in all aspects and areas of our business.  Our Investment Services business competes with domestic and international financial services firms that offer custody services, corporate trust services, clearing services, collateral management services, credit services, securities brokerage, foreign exchange services, derivatives, depositary receipt services and cash management services and related products, as well as a wide range of technology service providers, such as financial services data processing firms. Our Investment Management business competes with domestic and international asset management firms, hedge funds, investment banking companies and other financial services companies, including trust banks, brokerage firms and insurance companies, as well as a wide range of technology service providers.  Competition is based on a number of factors including, among others, customer service, transaction execution, capital or access to capital, quality and range of products and services offered, technological innovation and expertise, price, reputation, rates, lending limits and customer convenience.  Competition in the financial services industry continues to be intense and we may be at a competitive disadvantage to institutions that are not  similarly subject to extensive regulation, broad-based financial services firms that have the ability to offer a wider range of products and competitors whose compensatory arrangements are not subject to the same regulatory and supervisory frameworks that apply to us. As part of our business strategy, we seek to distinguish ourselves from competitors by the level of service we deliver to our clients.  We also believe that technological innovation is an important competitive factor, and, for this reason, have made and continue to make substantial investments in this area. For additional discussion regarding competition, see MD&A  Risk Factors - We are subject to competition in all aspects of our business, which could negatively affect our ability to maintain or  increase our profitability and MD&A  Risk Factors - Our business may be adversely affected if we are unable to attract and retain employees in the Annual Report, which are incorporated herein by reference.EmployeesAt Dec. 31, 2019, BNY Mellon and its subsidiaries had approximately 48,400 full-time employees.Statistical Disclosures by Bank Holding CompaniesI.Distribution of Assets, Liabilities and Stockholders Equity; Interest Rates and Interest Differential Information required by this section of Guide 3 is presented in the Annual Report in the Net interest revenue and Supplemental Information (unaudited)  Rate/volume analysis sections in the MD&A and in Note 11 of the Notes to Consolidated Financial Statements, which portions are incorporated herein by reference.  II.   Securities PortfolioA.Book Value of Securities;B.Maturity Distribution and Yields of Securities; andC.Aggregate Book Value and Market Value of Securities Where Issuer Exceeds 10% of Stockholders EquityInformation required by these sections of Guide 3 is presented in the Annual Report in the Net interest revenue and Consolidated balance sheet review  Securities sections in the MD&A and in Notes 1 and 4 of the Notes to Consolidated Financial Statements, which portions are incorporated herein by reference.III.   Loan PortfolioA.Types of Loans; andB.Maturities and Sensitivities of Loans to Changes in Interest RatesInformation required by these sections of Guide 3 is presented in the Annual Report in the Consolidated balance sheet review  Loans section in the MD&A and Notes 1 and 5 of the Notes to Consolidated 6  BNY Mellon  Financial Statements, which portions are incorporated herein by reference.C.Risk Elements; andD.Other Interest-bearing AssetsInformation required by these sections of Guide 3 is included in the Annual Report in the Consolidated balance sheet review  Loans and  Nonperforming assets and International operations  Country risk exposure and  Cross-border outstandings sections in the MD&A and Notes 1 and 5 of the Notes to Consolidated Financial Statements, which portions are incorporated herein by reference.IV.   Summary of Loan Loss ExperienceInformation required by this section of Guide 3 is included in the Annual Report in the Critical accounting estimates  Allowance for loan losses and allowance for lending-related commitments section in the MD&A, which portion is incorporated herein by reference, and below.When losses on specific loans are identified, the portion deemed uncollectible is charged off.  The allocation of the reserve for credit losses is presented in the Consolidated balance sheet review  Asset quality and allowance for credit losses section in the MD&A, as required by Guide 3, which is incorporated herein by reference.Further information on our credit policies, the factors that influenced managements judgment in determining the level of the reserve for credit exposure, and the analyses of the reserve for credit exposure are set forth in the Annual Report in the Risk Management  Credit risk and Critical accounting estimates sections in the MD&A and Notes 1 and 5 of the Notes to Consolidated Financial Statements, which portions are incorporated herein by reference.V.   DepositsInformation required by this section of Guide 3 is set forth in the Annual Report in the Net interest revenue and Consolidated balance sheet review  Deposits sections in the MD&A and in Note 9 of the Notes to Consolidated Financial Statements, which portions are incorporated herein by reference. VI.   Return on Equity and AssetsInformation required by this section of Guide 3 is set forth in the Annual Report in the Financial Summary section, which is incorporated herein by reference.VII.   Short-Term BorrowingsInformation required by this section of Guide 3 is set forth in the Annual Report in the Consolidated balance sheet review  Short-term borrowings section in the MD&A, which portion is incorporated herein by reference. \n",
      "\n",
      "https://www.sec.gov/Archives/edgar/data/1390777/000139077721000037/bk-20201231.htm\n",
      "11789 Item 1.Business5Item 1A.Risk factors7Item 1B.Unresolved staff comments7Item 2.Properties7Item 3.Legal proceedings8Item 4.Mine safety disclosures8PART IIItem 5.Market for registrants common equity, related stockholder matters and issuer purchases of equity securities9Item 6.Selected financial data9Item 7.Managements discussion and analysis of financial condition and results of operations9Item 7A.Quantitative and qualitative disclosures about market risk9Item 8.Financial statements and supplementary data9Item 9.Changes in and disagreements with accountants on accounting and financial disclosure9Item 9A.Controls and procedures9Item 9B.Other information10PART IIIItem 10.Directors, executive officers and corporate governance11Item 11.Executive compensation13Item 12.Security ownership of certain beneficial owners and management and related stockholder matters13Item 13.Certain relationships and related transactions, and director independence13Item 14.Principal accountant fees and services13PART IVItem 15.Exhibit and financial statement schedules14Item 16.Form 10-K summary14Index to exhibits15Signatures23PART IITEM 1. BUSINESSDescription of BusinessThe Bank of New York Mellon Corporation, a Delaware corporation (NYSE symbol: BK), is a global company headquartered in New York, New York, with $41.1 trillion in assets under custody and/or administration and $2.2 trillion in assets under management as of Dec. 31, 2020.  With its subsidiaries, BNY Mellon has been in business since 1784.  We divide our businesses into two business segments, Investment Services and Investment and Wealth Management.  We also have an Other segment, which includes the leasing portfolio, corporate treasury activities (including our securities portfolio), derivatives and other trading activity, corporate and bank-owned life insurance, renewable energy investments and certain business exits.For a further discussion of BNY Mellons lines of business, products and services, see the Overview, Summary of financial highlights, Fee and other revenue, Review of businesses and International operations sections in the MD&A section in the Annual Report and Notes 24 and 25 of the Notes to Consolidated Financial Statements in the Annual Report, of which portions are incorporated herein by reference.  See the Available Information section on page 1 of this Form 10-K, which is incorporated herein by reference, for a description of how to access financial and other information regarding BNY Mellon. Our two principal U.S. banking subsidiaries engage in trust and custody activities, investment management services, banking services and various securities-related activities.  Our two principal U.S. banking subsidiaries are:The Bank of New York Mellon, a New York state-chartered bank, which houses our Investment Services businesses, including Asset Servicing, Issuer Services, Treasury Services, Clearance and Collateral Management, as well as the bank-advised business of Investment Management; andBNY Mellon, National Association (BNY Mellon, N.A.), a national bank, which houses our Wealth Management business and certain activities of our Pershing businesses.  We have four other U.S. bank and/or trust company subsidiaries concentrating on trust products and services across the United States: The Bank of New York Mellon Trust Company, National Association, BNY Mellon Trust of Delaware, BNY Mellon Investment Servicing Trust Company and BNY Mellon Trust Company of Illinois.  Most of our Investment Management business and Pershing businesses are direct or indirect non-bank subsidiaries of BNY Mellon.Each of our bank and trust company subsidiaries is subject to regulation by the applicable bank regulatory authority.  The deposits of our U.S. banking subsidiaries are insured by the Federal Deposit Insurance Corporation to the extent provided by law.BNY Mellons banking subsidiaries outside the United States are subject to regulation by non-U.S. regulatory authorities in addition to the Board of Governors of the Federal Reserve System (the Federal Reserve).  The Bank of New York Mellon SA/NV (BNY Mellon SA/NV) is the main banking subsidiary of The Bank of New York Mellon in continental Europe.  It is authorized and regulated as a credit institution by the European Central Bank and the National Bank of Belgium under the Single Supervisory Mechanism and is also supervised by the Belgian Financial Services and Markets Authority for conduct of business rules.  BNY Mellon SA/NV has its principal office in Brussels and branches in Amsterdam, the Netherlands; Copenhagen, Denmark; Dublin, Ireland; Frankfurt, Germany; the City of Luxembourg, Luxembourg; Madrid, Spain; Milan, Italy; and Paris, France.  BNY Mellon SA/NVs activities are in the Investment Services segment of BNY Mellon with a focus on global custody, asset servicing and collateral management.  For additional discussion, see the MD&A  Supervision and Regulation section in the Annual Report.Primary SubsidiariesExhibit 21.1 to this Form 10-K presents a list of BNY Mellons primary subsidiaries as of Dec. 31, 2020.5  BNY Mellon  Human Capital ManagementInformation on the BNY Mellons human capital management can be found in the MD&A  Human Capital section in the Annual Report, which is incorporated herein by reference.Supervision and RegulationInformation on the supervision and regulation of BNY Mellon can be found in the MD&A  Supervision and Regulation section in the Annual Report, which is incorporated herein by reference.CompetitionBNY Mellon is subject to competition in all aspects and areas of our business.  Our Investment Services business competes with domestic and international financial services firms that offer custody services, corporate trust services, clearing services, collateral management services, credit services, securities brokerage, foreign exchange services, derivatives, depositary receipt services and integrated cash management solutions and related products, as well as a wide range of technology service providers, such as financial services data processing firms.  Our Investment and Wealth Management business competes with domestic and international investment management and wealth management firms, hedge funds, investment banking companies and other financial services companies, including trust banks, brokerage firms and insurance companies, as well as a wide range of technology service providers.  Competition is based on a number of factors including, among others, customer service, transaction execution, capital or access to capital, quality and range of products and services offered, technological innovation and expertise, price, reputation, rates, lending limits and customer convenience.  Competition also varies based on the types of clients, customers, industries and geographies served.  Our ability to continue to compete effectively also depends in large part on our ability to attract new employees and retain and motivate our existing employees, while managing compensation and other costs.  Competition in the financial services industry continues to be intense.  Our competitive position may be affected by institutions that are not similarly subject to extensive regulation and whose compensatory arrangements are not subject to the same regulatory and supervisory frameworks that apply to us. As part of our business strategy, we seek to distinguish ourselves from competitors by the wide breadth of services and capabilities and the level of service we deliver to our clients.  We also believe that technological innovation is an important competitive factor.  For this reason, we have made and continue to make substantial investments in this area so we can continue to scale and digitize our operating model. For additional discussion regarding competition, see MD&A  Risk Factors  We are subject to competition in all aspects of our business, which could negatively affect our ability to maintain or increase our profitability and MD&A  Risk Factors  Our business may be adversely affected if we are unable to attract, retain and motivate employees in the Annual Report, which are incorporated herein by reference.Statistical Disclosures by Bank Holding CompaniesI.    Distribution of Assets, Liabilities and Stockholders Equity; Interest Rates and Interest Differential Information required by this section of Guide 3 is presented in the Annual Report in the Net interest revenue and Supplemental Information (unaudited)  Rate/volume analysis sections in the MD&A and in Note 11 of the Notes to Consolidated Financial Statements, which portions are incorporated herein by reference.  II.   Securities PortfolioA.    Book Value of Securities;B.    Maturity Distribution and Yields of Securities; andC.    Aggregate Book Value and Market Value of Securities Where Issuer Exceeds 10% of Stockholders EquityInformation required by these sections of Guide 3 is presented in the Annual Report in the Net interest revenue and Consolidated balance sheet review  Securities sections in the MD&A and in Notes 1 and 4 of the Notes to Consolidated Financial Statements, which portions are incorporated herein by reference.BNY Mellon  6III.   Loan PortfolioA.    Types of Loans; andB.    Maturities and Sensitivities of Loans to Changes in Interest RatesInformation required by these sections of Guide 3 is presented in the Annual Report in the Consolidated balance sheet review  Loans section in the MD&A and Notes 1 and 5 of the Notes to Consolidated Financial Statements, which portions are incorporated herein by reference.C.    Risk Elements; andD.    Other Interest-bearing AssetsInformation required by these sections of Guide 3 is included in the Annual Report in the Consolidated balance sheet review  Loans and  Nonperforming assets and International operations  Country risk exposure and  Cross-border outstandings sections in the MD&A and Notes 1 and 5 of the Notes to Consolidated Financial Statements, which portions are incorporated herein by reference.IV.   Summary of Loan Loss ExperienceInformation required by this section of Guide 3 is included in the Annual Report in the Critical accounting estimates  Allowance for credit losses section in the MD&A, which portion is incorporated herein by reference, and below.When losses on specific loans are identified, the portion deemed uncollectible is charged off.  The allocation of the reserve for credit losses is presented in the Consolidated balance sheet review  Allowance for credit losses section in the MD&A, as required by Guide 3, which is incorporated herein by reference.Further information on our credit policies, the factors that influenced managements judgment in determining the level of the allowance for credit exposure, and the analyses of the allowance for credit exposure are set forth in the Annual Report in the Risk Management  Credit risk and Critical accounting estimates sections in the MD&A and Notes 1 and 5 of the Notes to Consolidated Financial Statements, which portions are incorporated herein by reference.V.   DepositsInformation required by this section of Guide 3 is set forth in the Annual Report in the Net interest revenue and Consolidated balance sheet review  Deposits sections in the MD&A and in Note 9 of the Notes to Consolidated Financial Statements, which portions are incorporated herein by reference.VI.   Return on Equity and AssetsInformation required by this section of Guide 3 is set forth in the Annual Report in the Financial Summary section, which is incorporated herein by reference.VII.   Short-Term BorrowingsInformation required by this section of Guide 3 is set forth in the Annual Report in the Consolidated balance sheet review  Short-term borrowings section in the MD&A, which portion is incorporated herein by reference. \n",
      "\n",
      "len_item1a\n",
      "https://www.sec.gov/Archives/edgar/data/36104/000119312522048709/d256232d10k.htm\n",
      "280 Item 1A.  Risk Factors      Information in response to this Item 1A can be found in the 2021 Annual Report on pages 137 to 150 under the heading Risk Factors. That information is incorporated into this report by reference.      Item 1B.  Unresolved Staff Comments      None.       \n",
      "\n",
      "https://www.sec.gov/Archives/edgar/data/36104/000119312521052547/d14650d10k.htm\n",
      "280 Item 1A.  Risk Factors      Information in response to this Item 1A can be found in the 2020 Annual Report on pages 146 to 158 under the heading Risk Factors. That information is incorporated into this report by reference.      Item 1B.  Unresolved Staff Comments      None.       \n",
      "\n",
      "https://www.sec.gov/Archives/edgar/data/36104/000119312520043622/d597518d10k.htm\n",
      "282 Item 1A.  Risk Factors       Information in response to this Item 1A can be found in the 2019 Annual Report on pages 146 to 156 under the heading Risk Factors. That information is incorporated into this report by reference.      Item 1B.  Unresolved Staff Comments       None.       \n",
      "\n",
      "https://www.sec.gov/Archives/edgar/data/72971/000007297121000197/wfc-20201231.htm\n",
      "295 ITEM 1A.RISK FACTORSInformation in response to this Item 1A can be found in this report under Item 1 and in the 2020 Annual Report to Shareholders under Financial Review  Risk Factors. That information is incorporated into this item by reference. ITEM 1B.UNRESOLVED STAFF COMMENTSNot applicable. \n",
      "\n",
      "https://www.sec.gov/Archives/edgar/data/72971/000007297122000096/wfc-20211231.htm\n",
      "296 ITEM 1A.RISK FACTORSInformation in response to this Item 1A can be found in this report under Item 1 and in the 2021 Annual Report to Shareholders under Financial Review  Risk Factors. That information is incorporated into this item by reference. 5ITEM 1B.UNRESOLVED STAFF COMMENTSNot applicable. \n",
      "\n",
      "len_item7\n",
      "https://www.sec.gov/Archives/edgar/data/7323/000006598420000069/etr-12312019x10k.htm\n",
      "6570 Item 7.1Report of Management 36Selected Financial Data - Five-Year ComparisonPart II. Item 6.37Report of Independent Registered Public Accounting Firm 38Consolidated Income Statements For the Years Ended December 31, 2019, 2018, and 2017Part II. Item 8.42Consolidated Statements of Comprehensive Income For the Years Ended December 31, 2019, 2018, and 2017Part II. Item 8.43Consolidated Statements of Cash Flows For the Years Ended December 31, 2019, 2018, and 2017Part II. Item 8.44Consolidated Balance Sheets, December 31, 2019 and 2018Part II. Item 8.46Consolidated Statements of Changes in Equity for the Years Ended December 31, 2019, 2018, and 2017Part II. Item 8.48Notes to Financial Statements  Note 1. Summary of Significant Accounting PoliciesPart II. Item 8.49Note 2. Rate and Regulatory MattersPart II. Item 8.60Note 3. Income TaxesPart II. Item 8.103Note 4. Revolving Credit Facilities, Lines of Credit, and Short-term BorrowingsPart II. Item 8.121Note 5. Long-term DebtPart II. Item 8.125Note 6. Preferred EquityPart II. Item 8.135Note 7. Common EquityPart II. Item 8.137Note 8. Commitments and ContingenciesPart II. Item 8.142Note 9. Asset Retirement ObligationsPart II. Item 8.149Note 10. LeasesPart II. Item 8.154Note 11. Retirement, Other Postretirement Benefits, and Defined Contribution PlansPart II. Item 8.161Note 12. Stock-based CompensationPart II. Item 8.190Note 13. Business Segment InformationPart II. Item 8.194Note 14. Acquisitions, Dispositions, and Impairment of Long-lived AssetsPart II. Item 8.198Note 15. Risk Management and Fair ValuesPart II. Item 8.201Note 16. Decommissioning Trust FundsPart II. Item 8.219Note 17. Variable Interest EntitiesPart II. Item 8.226Note 18. Transactions with AffiliatesPart II. Item 8.228Note 19. RevenuePart II. Item 8.230Note 20. Quarterly Financial DataPart II. Item 8.234Entergys Business  UtilityPart I. Item 1.237Entergy Wholesale CommoditiesPart I. Item 1.257Regulation of Entergys BusinessPart I. Item 1.260Litigation 274Employees 275Availability of SEC filings and other information on Entergys website 275Risk FactorsPart I. Item 1A.276Unresolved Staff CommentsPart I. Item 1B.NoneiTable of ContentsEntergy Arkansas, LLC and Subsidiaries  Managements Financial Discussion and AnalysisPart II. Item 7.299Report of Independent Registered Public Accounting Firm 316Consolidated Income Statements For the Years Ended December 31, 2019, 2018, and 2017Part II. Item 8.317Consolidated Statements of Cash Flows For the Years Ended December 31, 2019, 2018, and 2017Part II. Item 8.319Consolidated Balance Sheets, December 31, 2019 and 2018Part II. Item 8.320Consolidated Statements of Changes in Members Equity for the Years Ended December 31, 2019, 2018, and 2017Part II. Item 8.322Selected Financial Data - Five-Year ComparisonPart II. Item 6.323Entergy Louisiana, LLC and Subsidiaries  Managements Financial Discussion and AnalysisPart II. Item 7.324Report of Independent Registered Public Accounting Firm 342Consolidated Income Statements For the Years Ended December 31, 2019, 2018, and 2017Part II. Item 8.343Consolidated Statements of Comprehensive Income For the Years Ended December 31, 2019, 2018, and 2017Part II. Item 8.344Consolidated Statements of Cash Flows For the Years Ended December 31, 2019, 2018, and 2017Part II. Item 8.345Consolidated Balance Sheets, December 31, 2019 and 2018Part II. Item 8.346Consolidated Statements of Changes in Equity for the Years Ended December 31, 2019, 2018, and 2017Part II. Item 8.348Selected Financial Data - Five-Year ComparisonPart II. Item 6.349Entergy Mississippi, LLC  Managements Financial Discussion and AnalysisPart II. Item 7.350Report of Independent Registered Public Accounting Firm 362Income Statements For the Years Ended December 31, 2019, 2018, and 2017Part II. Item 8.363Statements of Cash Flows For the Years Ended December 31, 2019, 2018, and 2017Part II. Item 8.365Balance Sheets, December 31, 2019 and 2018Part II. Item 8.366Statements of Changes in Members Equity for the Years Ended December 31, 2019, 2018, and 2017Part II. Item 8.368Selected Financial Data - Five-Year ComparisonPart II. Item 6.369Entergy New Orleans, LLC and Subsidiaries  Managements Financial Discussion and AnalysisPart II. Item 7.370Report of Independent Registered Public Accounting Firm 385Consolidated Income Statements For the Years Ended December 31, 2019, 2018, and 2017Part II. Item 8.386Consolidated Statements of Cash Flows For the Years Ended December 31, 2019, 2018, and 2017Part II. Item 8.387Consolidated Balance Sheets, December 31, 2019 and 2018Part II. Item 8.388Consolidated Statements of Changes in Members Equity for the Years Ended December 31, 2019, 2018, and 2017Part II. Item 8.390Selected Financial Data - Five-Year ComparisonPart II. Item 6.391Entergy Texas, Inc. and Subsidiaries  Managements Financial Discussion and AnalysisPart II. Item 7.392Report of Independent Registered Public Accounting Firm 404Consolidated Income Statements For the Years Ended December 31, 2019, 2018, and 2017Part II. Item 8.405Consolidated Statements of Cash Flows For the Years Ended December 31, 2019, 2018, and 2017Part II. Item 8.407Consolidated Balance Sheets, December 31, 2019 and 2018Part II. Item 8.408iiTable of ContentsConsolidated Statements of Changes in Equity for the Years Ended December 31, 2019, 2018, and 2017Part II. Item 8.410Selected Financial Data - Five-Year ComparisonPart II. Item 6.411System Energy Resources, Inc.  Managements Financial Discussion and AnalysisPart II. Item 7.412Report of Independent Registered Public Accounting Firm 424Income Statements For the Years Ended December 31, 2019, 2018, and 2017Part II. Item 8.425Statements of Cash Flows For the Years Ended December 31, 2019, 2018, and 2017Part II. Item 8.427Balance Sheets, December 31, 2019 and 2018Part II. Item 8.428Statements of Changes in Common Equity for the Years Ended December 31, 2019, 2018, and 2017Part II. Item 8.430Selected Financial Data - Five-Year ComparisonPart II. Item 6.431PropertiesPart I. Item 2.432Legal ProceedingsPart I. Item 3.432Mine Safety DisclosuresPart I. Item 4.432Information about Executive Officers of Entergy CorporationPart I. and Part III. Item 10.432Market for Registrants Common Equity and Related Stockholder MattersPart II. Item 5.434Selected Financial DataPart II. Item 6.435Managements Discussion and Analysis of Financial Condition and Results of OperationsPart II. Item 7.435Quantitative and Qualitative Disclosures About Market RiskPart II. Item 7A.435Financial Statements and Supplementary DataPart II.  \n",
      "\n",
      "https://www.sec.gov/Archives/edgar/data/19617/000001961721000236/jpm-20201231.htm\n",
      "7949 Item 7. Managements Discussion and Analysis of Financial Condition and Results of Operations.Managements discussion and analysis of financial condition and results of operations, entitled Managements discussion and analysis, appears on pages 46-157. Such information should be read in conjunction with the Consolidated Financial Statements and Notes thereto, which appear on pages 162-298.Item 7A. Quantitative and Qualitative Disclosures About Market Risk.Refer to the Market Risk Management section of Managements discussion and analysis on pages 135142 for a discussion of quantitative and qualitative disclosures about market risk.Item 8. Financial Statements and Supplementary Data.The Consolidated Financial Statements, together with the Notes thereto and the report thereon dated February 23, 2021, of PricewaterhouseCoopers LLP, the Firms independent registered public accounting firm, appear on pages 159-298.Supplementary financial data for each quarter within the two years ended December 31, 2020, are included on page 299 in the table entitled Selected quarterly financial data 34(unaudited). Also included is a Glossary of Terms and Acronyms on pages 305-311.Item 9. Changes in and Disagreements With Accountants on Accounting and Financial Disclosure.None.Item 9A. Controls and Procedures.The internal control framework promulgated by the Committee of Sponsoring Organizations of the Treadway Commission (COSO), Internal Control  Integrated Framework (COSO 2013), provides guidance for designing, implementing and conducting internal control and assessing its effectiveness. The Firm used the COSO 2013 framework to assess the effectiveness of the Firms internal control over financial reporting as of December 31, 2020. Refer to Managements report on internal control over financial reporting on page 158.As of the end of the period covered by this report, an evaluation was carried out under the supervision and with the participation of the Firms management, including its Chairman and Chief Executive Officer and its Chief Financial Officer, of the effectiveness of its disclosure controls and procedures (as defined in Rule 13a-15(e) under the Securities Exchange Act of 1934). Based on that evaluation, the Chairman and Chief Executive Officer and the Chief Financial Officer concluded that these disclosure controls and procedures were effective. Refer to Exhibits 31.1 and 31.2 for the Certifications furnished by the Chairman and Chief Executive Officer and Chief Financial Officer, respectively.The Firm is committed to maintaining high standards of internal control over financial reporting. Nevertheless, because of its inherent limitations, internal control over financial reporting may not prevent or detect all misstatements. Deficiencies or lapses in internal controls may occur from time to time, and there can be no assurance that any such deficiencies will not result in significant deficiencies or material weaknesses in internal control in the future and collateral consequences therefrom. Refer to Managements report on internal control over financial reporting on page 158 for further information. There was no change in the Firms internal control over financial reporting (as defined in Rule 13a-15(f) under the Securities Exchange Act of 1934) that occurred during the three months ended December 31, 2020, that has materially affected, or is reasonably likely to materially affect, the Firms internal control over financial reporting.Item 9B. Other Information. None. 35Part IIIItem 10. Directors, Executive Officers and Corporate Governance.Executive officers of the registrantAgeName(at December 31, 2020)Positions and officesJames Dimon64Chairman of the Board and Chief Executive Officer; he had been President from July 2004 until January 2018.Ashley Bacon51Chief Risk Officer since June 2013. Lori A. Beer53Chief Information Officer since September 2017, prior to which she had been Chief Information Officer of the Corporate & Investment Bank since June 2016. She was Global Head of Banking Technology from January 2014 until May 2016.Mary Callahan Erdoes53Chief Executive Officer of Asset & Wealth Management since September 2009.Stacey Friedman52General Counsel since January 2016, prior to which she was Deputy General Counsel since July 2015 and General Counsel for the Corporate & Investment Bank since August 2012. Marianne Lake51Chief Executive Officer of Consumer Lending and Card Services since May 2019, prior to which she had been Chief Financial Officer since 2013.Robin Leopold56Head of Human Resources since January 2018, prior to which she had been Head of Human Resources for the Corporate & Investment Bank since August 2012. Douglas B. Petno55Chief Executive Officer of Commercial Banking since January 2012.Jennifer Piepszak50Chief Financial Officer since May 2019, prior to which she had been the Chief Executive Officer for Card Services since 2017. She was Chief Executive Officer of Business Banking from 2015 to 2017.Daniel E. Pinto58Co-President and Co-Chief Operating Officer since January 2018, Chief Executive Officer of the Corporate & Investment Bank since March 2014, and Chief Executive Officer of Europe, the Middle East and Africa since June 2011. Peter Scher 59Head of Corporate Responsibility since 2011 and Chairman of the Mid-Atlantic Region since 2015. Gordon A. Smith62Co-President and Co-Chief Operating Officer since January 2018, and Chief Executive Officer of Consumer & Community Banking since December 2012.Unless otherwise noted, during the five fiscal years ended December 31, 2020, all of JPMorgan Chases above-named executive officers have continuously held senior-level positions with JPMorgan Chase. There are no family relationships among the foregoing executive officers. Information to be provided in Items 10, 11, 12, 13 and 14 of the Form 10-K and not otherwise included herein is incorporated by reference to the Firms Definitive Proxy Statement for its 2021 Annual Meeting of Stockholders to be held on May 18, 2021, which will be filed with the SEC within 120 days of the end of the Firms fiscal year ended December 31, 2020.36Item 11. Executive Compensation.Refer to Item 10.Item 12. Security Ownership of Certain Beneficial Owners and Management and Related Stockholder Matters.Refer to Item 10 for security ownership of certain beneficial owners and management.The following table sets forth the total number of shares available for issuance under JPMorgan Chases employee share-based incentive plans (including shares available for issuance to non-employee directors). The Firm is not authorized to grant share-based incentive awards to non-employees, other than to non-employee directors.December 31, 2020Number of shares to be issued upon exercise of outstanding options/stock appreciation rightsWeighted-average exercise price of outstanding options/stock appreciation rightsNumber of shares remaining available for future issuance under stock incentive plansPlan categoryEmployee share-based incentive plans approved by shareholders3,124,739 (a)$41.25 66,621,995 (b)Total3,124,739 $41.25 66,621,995 (a)Does not include restricted stock units or performance stock units granted under the shareholder-approved Long-Term Incentive Plan (LTIP), as amended and restated effective May 15, 2018. Refer to Note 9 for further discussion.(b)Represents shares available for future issuance under the shareholder-approved LTIP.All shares available for future issuance will be issued under the shareholder-approved LTIP. Refer to Note 9 for further discussion.Item 13. Certain Relationships and Related Transactions, and Director Independence.Refer to Item 10.Item 14. Principal Accounting Fees and Services.Refer to Item 10.37Part IVItem 15. Exhibits, Financial Statement Schedules.1Financial statementsThe Consolidated Financial Statements, the Notes thereto and the report of the Independent Registered Public Accounting Firm thereon listed in  \n",
      "\n",
      "https://www.sec.gov/Archives/edgar/data/19617/000001961720000257/corp10k2019.htm\n",
      "8294 Item 7. Managements Discussion and Analysis of Financial Condition and Results of Operations.Managements discussion and analysis of financial condition and results of operations, entitled Managements discussion and analysis, appears on pages 42141. Such information should be read in conjunction with the Consolidated Financial Statements and Notes thereto, which appear on pages 147286. Item 7A. Quantitative and Qualitative Disclosures About Market Risk.Refer to the Market Risk Management section of Managements discussion and analysis on pages 119126 for a discussion of quantitative and qualitative disclosures about market risk.Item 8. Financial Statements and Supplementary Data.The Consolidated Financial Statements, together with the Notes thereto and the report thereon dated February 25, 2020, of PricewaterhouseCoopers LLP, the Firms independent registered public accounting firm, appear on pages 143286.Supplementary financial data for each quarter within the two years ended December 31, 2019, are included on page 287 in the table entitled Selected quarterly financial data (unaudited). Also included is a Glossary of Terms and Acronyms on pages 293299.30  Item 9. Changes in and Disagreements With Accountants on Accounting and Financial Disclosure.None.Item 9A. Controls and Procedures.The internal control framework promulgated by the Committee of Sponsoring Organizations of the Treadway Commission (COSO), Internal Control  Integrated Framework (COSO 2013), provides guidance for designing, implementing and conducting internal control and assessing its effectiveness. The Firm used the COSO 2013 framework to assess the effectiveness of the Firms internal control over financial reporting as of December 31, 2019. Refer to Managements report on internal control over financial reporting on page 142.As of the end of the period covered by this report, an evaluation was carried out under the supervision and with the participation of the Firms management, including its Chairman and Chief Executive Officer and its Chief Financial Officer, of the effectiveness of its disclosure controls and procedures (as defined in Rule 13a-15(e) under the Securities Exchange Act of 1934). Based on that evaluation, the Chairman and Chief Executive Officer and the Chief Financial Officer concluded that these disclosure controls and procedures were effective. Refer to Exhibits 31.1 and 31.2 for the Certifications furnished by the Chairman and Chief Executive Officer and Chief Financial Officer, respectively.The Firm is committed to maintaining high standards of internal control over financial reporting. Nevertheless, because of its inherent limitations, internal control over financial reporting may not prevent or detect misstatements. In addition, in a firm as large and complex as JPMorgan Chase, lapses or deficiencies in internal controls may occur from time to time, and there can be no assurance that any such deficiencies will not result in significant deficiencies or material weaknesses in internal control in the future and collateral consequences therefrom. Refer to Managements report on internal control over financial reporting on page 142 for further information. There was no change in the Firms internal control over financial reporting (as defined in Rule 13a-15(f) under the Securities Exchange Act of 1934) that occurred during the three months ended December 31, 2019, that has materially affected, or is reasonably likely to materially affect, the Firms internal control over financial reporting. Item 9B. Other Information. None.   31Part IIIItem 10. Directors, Executive Officers and Corporate Governance.Executive officers of the registrant Age Name(at December 31, 2019)Positions and officesJames Dimon63Chairman of the Board and Chief Executive Officer; he had been President from July 2004 until January 2018.Ashley Bacon50Chief Risk Officer since June 2013. Lori A. Beer52Chief Information Officer since September 2017, prior to which she had been Chief Information Officer of the Corporate & Investment Bank since June 2016. She was Global Head of Banking Technology from January 2014 until May 2016. Prior to joining JPMorgan Chase in 2014, she was Executive Vice President of Specialty Businesses and Information Technology for Anthem, Inc.Mary Callahan Erdoes52Chief Executive Officer of Asset & Wealth Management since September 2009.Stacey Friedman51General Counsel since January 2016, prior to which she was Deputy General Counsel since July 2015 and General Counsel for the Corporate & Investment Bank since August 2012. Marianne Lake50Chief Executive Officer of Consumer Lending and Card Services since May 2019, prior to which she had been Chief Financial Officer since January 2013.Robin Leopold55Head of Human Resources since January 2018, prior to which she had been Head of Human Resources for the Corporate & Investment Bank since August 2012. Douglas B. Petno54Chief Executive Officer of Commercial Banking since January 2012.Jennifer Piepszak49Chief Financial Officer since May 2019, prior to which she had been the Chief Executive Officer for Card Services since 2017. She was Chief Executive Officer of Business Banking from 2015 to 2017.Daniel E. Pinto57Co-President and Co-Chief Operating Officer since January 2018, Chief Executive Officer of the Corporate & Investment Bank since March 2014, and Chief Executive Officer of Europe, the Middle East and Africa since June 2011. He had been Co-Chief Executive Officer of the Corporate & Investment Bank from July 2012 until March 2014.Peter Scher  58Head of Corporate Responsibility since 2011 and Chairman of the Mid-Atlantic Region since 2015. Gordon A. Smith61Co-President and Co-Chief Operating Officer since January 2018, and Chief Executive Officer of Consumer & Community Banking since December 2012.Unless otherwise noted, during the five fiscal years ended December 31, 2019, all of JPMorgan Chases above-named executive officers have continuously held senior-level positions with JPMorgan Chase. There are no family relationships among the foregoing executive officers. Information to be provided in Items 10, 11, 12, 13 and 14 of the Form 10-K and not otherwise included herein is incorporated by reference to the Firms Definitive Proxy Statement for its 2020 Annual Meeting of Stockholders to be held on May 19, 2020, which will be filed with the SEC within 120 days of the end of the Firms fiscal year ended December 31, 2019.32  Item 11. Executive Compensation.Refer to Item 10. Item 12. Security Ownership of Certain Beneficial Owners and Management and Related Stockholder Matters.Refer to Item 10 for security ownership of certain beneficial owners and management.The following table sets forth the total number of shares available for issuance under JPMorgan Chases employee share-based incentive plans (including shares available for issuance to non-employee directors). The Firm is not authorized to grant share-based incentive awards to non-employees, other than to non-employee directors.December 31, 2019Number of shares to be issued upon exercise of outstanding options/stock appreciation rights Weighted-average exercise price of outstanding options/stock appreciation rights Number of shares remaining available for future issuance under stock incentive plansPlan category        Employee share-based incentive plans approved by shareholders5,527,331(a)  $41.36  74,945,900(b) Total5,527,331  $41.36  74,945,900 (a)Does not include restricted stock units or performance stock units granted under the shareholder-approved Long-Term Incentive Plan (LTIP), as amended and restated effective May 15, 2018. Refer to Note 9 for further discussion.(b)Represents shares available for future issuance under the shareholder-approved LTIP.All shares available for future issuance will be issued under the shareholder-approved LTIP. Refer to Note 9 for further discussion.Item 13. Certain Relationships and Related Transactions, and Director Independence.Refer to Item 10.Item 14. Principal Accounting Fees and Services.Refer to Item 10.  33Part IVItem 15. Exhibits, Financial Statement Schedules.1 Financial statements     The Consolidated Financial Statements, the Notes thereto and the report of the Independent Registered Public Accounting Firm thereon listed in  \n",
      "\n",
      "https://www.sec.gov/Archives/edgar/data/19617/000001961722000272/jpm-20211231.htm\n",
      "8757 Item 7. Managements Discussion and Analysis of Financial Condition and Results of Operations.Managements discussion and analysis of financial condition and results of operations, entitled Managements discussion and analysis, appears on pages 46154. Such information should be read in conjunction with the Consolidated Financial Statements and Notes thereto, which appear on pages 160-298.35Parts II and IIIItem 7A. Quantitative and Qualitative Disclosures About Market Risk.Refer to the Market Risk Management section of Managements discussion and analysis on pages 133-140 for a discussion of quantitative and qualitative disclosures about market risk.Item 8. Financial Statements and Supplementary Data.The Consolidated Financial Statements, together with the Notes thereto and the report thereon dated February 22, 2022, of PricewaterhouseCoopers LLP, the Firms independent registered public accounting firm (PCAOB ID 238), appear on pages 157-298.The Glossary of Terms and Acronyms is included on pages 305-311.Item 9. Changes in and Disagreements With Accountants on Accounting and Financial Disclosure.None.Item 9A. Controls and Procedures.The internal control framework promulgated by the Committee of Sponsoring Organizations of the Treadway Commission (COSO), Internal Control  Integrated Framework (COSO 2013), provides guidance for designing, implementing and conducting internal control and assessing its effectiveness. The Firm used the COSO 2013 framework to assess the effectiveness of the Firms internal control over financial reporting as of December 31, 2021. Refer to Managements report on internal control over financial reporting on page 156.As of the end of the period covered by this report, an evaluation was carried out under the supervision and with the participation of the Firms management, including its Chairman and Chief Executive Officer and its Chief Financial Officer, of the effectiveness of its disclosure controls and procedures (as defined in Rule 13a-15(e) under the Securities Exchange Act of 1934). Based on that evaluation, the Chairman and Chief Executive Officer and the Chief Financial Officer concluded that these disclosure controls and procedures were effective. Refer to Exhibits 31.1 and 31.2 for the Certifications furnished by the Chairman and Chief Executive Officer and Chief Financial Officer, respectively.The Firm is committed to maintaining high standards of internal control over financial reporting. Nevertheless, because of its inherent limitations, internal control over financial reporting may not prevent or detect all misstatements. Deficiencies or lapses in internal controls may occur from time to time, and there can be no assurance that any such deficiencies will not result in significant deficiencies or material weaknesses in internal control in the future and collateral consequences therefrom. Refer to Managements report on internal control over financial reporting on page 156 for further information. There was no change in the Firms internal control over financial reporting (as defined in Rule 13a-15(f) under the Securities Exchange Act of 1934) that occurred during the three months ended December 31, 2021, that has materially affected, or is reasonably likely to materially affect, the Firms internal control over financial reporting.Item 9B. Other Information. None. Item 9C. Disclosure regarding Foreign Jurisdictions that Prevent Inspections.Not applicable.36Item 10. Directors, Executive Officers and Corporate Governance.Executive officers of the registrantAgeName(at December 31, 2021)Positions and officesJames Dimon65Chairman of the Board and Chief Executive Officer; he had been President from July 2004 until January 2018.Ashley Bacon52Chief Risk Officer since June 2013. Jeremy Barnum49Chief Financial Officer since May 2021, prior to which he was Head of Global Research for the Corporate & Investment Bank since February 2021. He previously served as Chief Financial Officer of the Corporate & Investment Bank from July 2013 until February 2021.Lori A. Beer54Chief Information Officer since September 2017, prior to which she had been Chief Information Officer of the Corporate & Investment Bank since June 2016. She was Global Head of Banking Technology from January 2014 until May 2016.Mary Callahan Erdoes54Chief Executive Officer of Asset & Wealth Management since September 2009.Stacey Friedman53General Counsel since January 2016, prior to which she was Deputy General Counsel since July 2015 and General Counsel for the Corporate & Investment Bank since August 2012. Marianne Lake52Co-Chief Executive Officer of Consumer & Community Banking since May 2021, prior to which she had been Chief Executive Officer of Consumer Lending since May 2019. She was Chief Financial Officer from January 2013 until May 2019.Robin Leopold57Head of Human Resources since January 2018, prior to which she had been Head of Human Resources for the Corporate & Investment Bank since August 2012. Douglas B. Petno56Chief Executive Officer of Commercial Banking since January 2012.Jennifer Piepszak51Co-Chief Executive Officer of Consumer & Community Banking since May 2021, prior to which she had been Chief Financial Officer since May 2019. She previously served as Chief Executive Officer for Card Services from February 2017 until May 2019 and Chief Executive Officer of Business Banking from March 2015 to January 2017.Daniel E. Pinto(a)59President and Chief Operating Officer since January 1, 2022 and Chief Executive Officer of the Corporate & Investment Bank since March 2014, having previously served as Co-President and Co-Chief Operating Officer since January 2018. He was Chief Executive Officer of Europe, the Middle East and Africa from June 2011 until October 2017. Peter Scher  60Vice Chairman since March 2021 and Chairman of the Mid-Atlantic Region since February 2015. He previously served as Head of Corporate Responsibility from April 2011 until September 2021.Unless otherwise noted, during the five fiscal years ended December 31, 2021, all of JPMorgan Chases above-named executive officers have continuously held senior-level positions with JPMorgan Chase. There are no family relationships among the foregoing executive officers. Information to be provided in Items 10, 11, 12, 13 and 14 of this 2021 Form 10-K and not otherwise included herein is incorporated by reference to the Firms Definitive Proxy Statement for its 2022 Annual Meeting of Stockholders to be held on May 17, 2022, which will be filed with the SEC within 120 days of the end of the Firms fiscal year ended December 31, 2021.(a)Effective January 1, 2022, Mr. Pinto became the Firms sole President and Chief Operating Officer, following the retirement of Gordon A. Smith as Co-President, Co-Chief Operating Officer and Chief Executive Officer of Consumer & Community Banking on December 31, 2021; Mr. Smith is no longer an executive officer of the Firm.37Parts III and IVItem 11. Executive Compensation.Refer to Item 10.Item 12. Security Ownership of Certain Beneficial Owners and Management and Related Stockholder Matters. Refer to Item 10 for security ownership of certain beneficial owners and management.The following table sets forth the total number of shares available for issuance under JPMorgan Chases employee share-based incentive plans (including shares available for issuance to non-employee directors). The Firm is not authorized to grant share-based incentive awards to non-employees, other than to non-employee directors.December 31, 2021Number of shares to be issued upon exercise of outstanding options/stock appreciation rightsWeighted-average exercise price of outstanding options/stock appreciation rightsNumber of shares remaining available for future issuance under stock incentive plansPlan categoryEmployee share-based incentive plans approved by shareholders3,369,348 (a)$116.62 82,749,985 (b)Total3,369,348 $116.62 82,749,985 (a)Does not include restricted stock units or performance stock units granted under the shareholder-approved Long-Term Incentive Plan (LTIP), as amended and restated effective May 18, 2021. Refer to Note 9 for further discussion.(b)Represents shares available for future issuance under the shareholder-approved LTIP.All shares available for future issuance will be issued under the shareholder-approved LTIP. Refer to Note 9 for further discussion.Item 13. Certain Relationships and Related Transactions, and Director Independence.Refer to Item 10.Item 14. Principal Accounting Fees and Services.Refer to Item 10.38Item 15. Exhibits, Financial Statement Schedules.1Financial statementsThe Consolidated Financial Statements, the Notes thereto and the report of the Independent Registered Public Accounting Firm thereon listed in  \n",
      "\n",
      "https://www.sec.gov/Archives/edgar/data/80661/000008066122000046/pgr-20211231.htm\n",
      "9518 ITEM 7. MANAGEMENTS DISCUSSION AND ANALYSIS OF FINANCIAL CONDITION AND RESULTS OF OPERATIONSIncorporated by reference from Managements Discussion and Analysis of Financial Condition and Results of Operations in our Annual Report.  - 27 -ITEM 7A. QUANTITATIVE AND QUALITATIVE DISCLOSURES ABOUT MARKET RISK The quantitative and qualitative disclosures about market risk are incorporated by reference from section IV. Results of Operations  Investments in our Managements Discussion and Analysis of Financial Condition and Results of Operations, and the Quantitative Market Risk Disclosures section in our Annual Report.ITEM 8. FINANCIAL STATEMENTS AND SUPPLEMENTARY DATAThe Consolidated Financial Statements of Progressive, along with the related Notes, and Report of the Independent Registered Public Accounting Firm, are incorporated by reference from our Annual Report.ITEM 9. CHANGES IN AND DISAGREEMENTS WITH ACCOUNTANTS ON ACCOUNTING AND FINANCIAL DISCLOSURE None.ITEM 9A. CONTROLS AND PROCEDURESUnder the direction of our Chief Executive Officer and our Chief Financial Officer, we have established disclosure controls and procedures that are designed to ensure that information required to be disclosed by us in the reports that we file or submit under the Securities Exchange Act of 1934 is recorded, processed, summarized, and reported within the time periods specified in the Securities and Exchange Commissions rules and forms. The disclosure controls and procedures are also intended to ensure that such information is accumulated and communicated to our management, including the Chief Executive Officer and Chief Financial Officer, as appropriate, to allow timely decisions regarding required disclosures.Our Chief Executive Officer and our Chief Financial Officer reviewed and evaluated Progressives disclosure controls and procedures as of the end of the period covered by this report. Based on that review and evaluation, the Chief Executive Officer and Chief Financial Officer concluded that Progressives disclosure controls and procedures are effectively serving the stated purposes as of the end of the period covered by this report.Managements Report on Internal Control over Financial Reporting and the attestation of the independent registered public accounting firm are incorporated by reference from our Annual Report.There have not been any changes in our internal control over financial reporting during our most recent fiscal quarter that has materially affected, or is reasonably likely to materially affect, our internal control over financial reporting.ITEM 9B. OTHER INFORMATIONNone.ITEM 9C. DISCLOSURE REGARDING FOREIGN JURISDICTIONS THAT PREVENT INSPECTIONSNone. - 28 -PART III ITEM 10. DIRECTORS, EXECUTIVE OFFICERS AND CORPORATE GOVERNANCEInformation relating to our directors is incorporated herein by reference from the section entitled Item 1: Election of Directors in The Progressive Corporations Proxy Statement for the Annual Meeting of Shareholders to be held on May 13, 2022 (the Proxy Statement).Information relating to executive officers of Progressive follows. Unless otherwise indicated, the executive officer has held the position(s) indicated with Progressive. NameAgeOffices Held and Last Five Years Business ExperienceSusan Patricia Griffith57President and Chief Executive OfficerJohn P. Sauerland57Vice President and Chief Financial OfficerKaren B. Bailo54Commercial Lines President since October 2020; Commercial Lines Acquisition and Small Business General Manager from January 2020 to September 2020; Commercial Lines Controller from August 2018 to December 2019; Agency Distribution Business Leader prior to August 2018Jonathan S. Bauer44Chief Investment Officer since January 2020; Portfolio Manager prior to January 2020Steven A. Broz51Chief Information OfficerPatrick K. Callahan51Personal Lines President William L. Clawson II52Chief Human Resources Officer since December 2021; Compensation and Benefits Business Leader from November 2019 to December 2021; Product Manager prior to November 2019Remi Kent46Chief Marketing Officer since November 2021; Senior Vice President and Global Chief Marketing Officer of the Consumer Business Group of 3M Company (global manufacturing and technology company) from January 2020 to October 2021; Global Business Director for Post-It and Scotch Brands of 3M Company from June 2017 to January 2020; Global Brand and Strategy Leader of 3M Company prior to June 2017Mariann Wojtkun Marshall59Vice President and Chief Accounting Officer since March 2019; Director of Financial Reporting - GAAP prior to March 2019; Assistant SecretaryDaniel P. Mascaro58Vice President, Secretary, and Chief Legal Officer since March 2017; Claims Legal Business Leader prior to March 2017John Murphy52Claims President since December 2021; Customer Relationship Management President prior to December 2021Lori Niederst48Customer Relationship Management President since December 2021; Chief Human Resources Officer prior to December 2021Andrew J. Quigg42Chief Strategy Officer since July 2018; Customer Experience General Manager prior to July 2018Delinquent Section 16(a) Reports. Any delinquent filings will be incorporated by reference from the Security Ownership of Certain Beneficial Owners and Management - Delinquent Section 16(a) Reports section of the Proxy Statement, if applicable.Code of Ethics. Progressive has a Code of Ethics for the Chief Executive Officer, Chief Financial Officer, and other senior financial officers. This Code of Ethics is available at: progressive.com/governance. We intend to continue to satisfy the disclosure requirements under Item 5.05 of Form 8-K regarding amendments to, and waivers from, the provisions of the foregoing Code of Ethics by posting such information on our Internet website at: progressive.com/governance.Shareholder-Proposed Candidate Procedures. There were no material changes during 2021 to Progressives procedures by which a shareholder can recommend a director candidate. The description of those procedures is incorporated by reference from the Other Matters - Procedures for Recommendations and Nominations of Directors and Shareholder Proposals - To Recommend a Candidate for our Board of Directors section of the Proxy Statement.Audit Committee. Incorporated by reference from the Other Board of Directors Information - Board Committees - Audit Committee section of the Proxy Statement.Financial Expert. Incorporated by reference from the Other Board of Directors Information - Board Committees - Audit Committee section of the Proxy Statement. - 29 -ITEM 11. EXECUTIVE COMPENSATIONIncorporated by reference from the sections of the Proxy Statement entitled Compensation Discussion and Analysis, Executive Compensation, Other Board of Directors Information - Compensation Committee Interlocks and Insider Participation, Compensation Committee Report, and Compensation Programs and Risk Management.ITEM 12. SECURITY OWNERSHIP OF CERTAIN BENEFICIAL OWNERS AND MANAGEMENT AND RELATED STOCKHOLDER MATTERSInformation regarding ownership of Common Shares by certain beneficial owners and management is incorporated by reference from the section of the Proxy Statement entitled Security Ownership of Certain Beneficial Owners and Management.The following information is set forth with respect to our equity compensation plans at December 31, 2021. EQUITY COMPENSATION PLAN INFORMATIONPlan CategoryNumber ofSecurities to beIssued upon Exerciseof OutstandingOptions, Warrantsand Rights Weighted-AverageExercise Priceof OutstandingOptions,Warrantsand RightsNumber of SecuritiesRemainingAvailable forFuture IssuanceUnder EquityCompensation PlansEquity compensation plans approved by security holders:Employee Plans:2015 Equity Incentive Plan3,539,022 1NA7,010,609 2Director Plans:2017 Directors Equity Incentive Plan29,206 NA297,950 Equity compensation plans not approved by security holders:NoneTotal3,568,228   NA7,308,559 NA = Not applicable because restricted stock unit awards do not have an exercise price.1 Reflects restricted stock unit awards, including reinvested dividend equivalents, under which, upon vesting, the holder has the right to receive common shares on a one-to-one basis. Performance-based restricted stock unit awards, including dividend equivalents, of 727,596 units are included under the 2015 Equity Incentive Plan at their target value. Maximum potential payout for the performance awards outstanding under the 2015 Equity Incentive Plan was 1,787,949. For a description of the performance-based awards, including the performance measurement and vesting ranges, see Note 9  Employee Benefit Plans in our Annual Report.2 Gives effect to reservation of common shares subject to performance-based awards at maximum potential payout.ITEM 13. CERTAIN RELATIONSHIPS AND RELATED TRANSACTIONS, AND DIRECTOR INDEPENDENCEIncorporated by reference from the section of the Proxy Statement entitled Other Board of Directors Information - Board of Directors Independence Determinations, and Other Board of Directors Information - Transactions with Related Persons.ITEM 14. PRINCIPAL ACCOUNTANT FEES AND SERVICESIncorporated by reference from the section of the Proxy Statement entitled Other Independent Registered Public Accounting Firm Information. - 30 -PART IV ITEM 15. EXHIBITS AND FINANCIAL STATEMENT SCHEDULES(a)(1) Listing of Financial StatementsThe following consolidated financial statements are included in our Annual Report and are incorporated by reference in  \n",
      "\n"
     ]
    }
   ],
   "source": [
    "for colname, origin_colname in [('len_item1', 'item1_business'), ('len_item1a', 'item1a_risk'), \\\n",
    "                                ('len_item7', 'item7_mda')]:\n",
    "    print(colname)\n",
    "    for _, row in df[(df[colname]>21)].sort_values(by=[colname]).iloc[:5].iterrows():\n",
    "        print(row['form_url'])\n",
    "        print(row[colname], row[origin_colname][:], '\\n')"
   ]
  }
 ],
 "metadata": {
  "kernelspec": {
   "display_name": "torchtext",
   "language": "python",
   "name": "torchtext"
  },
  "language_info": {
   "codemirror_mode": {
    "name": "ipython",
    "version": 3
   },
   "file_extension": ".py",
   "mimetype": "text/x-python",
   "name": "python",
   "nbconvert_exporter": "python",
   "pygments_lexer": "ipython3",
   "version": "3.6.5"
  }
 },
 "nbformat": 4,
 "nbformat_minor": 5
}
