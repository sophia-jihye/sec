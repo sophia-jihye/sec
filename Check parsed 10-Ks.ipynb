{
 "cells": [
  {
   "cell_type": "code",
   "execution_count": 1,
   "id": "c79252f3",
   "metadata": {},
   "outputs": [],
   "source": [
    "import os\n",
    "import pandas as pd"
   ]
  },
  {
   "cell_type": "code",
   "execution_count": 2,
   "id": "bad753c5",
   "metadata": {},
   "outputs": [],
   "source": [
    "data_dir = '/media/dmlab/My Passport/DATA/sec'\n",
    "data_filepath = os.path.join(data_dir, '10K_parsed.csv')"
   ]
  },
  {
   "cell_type": "code",
   "execution_count": 3,
   "id": "9f43c325",
   "metadata": {},
   "outputs": [
    {
     "name": "stdout",
     "output_type": "stream",
     "text": [
      "1429\n"
     ]
    },
    {
     "data": {
      "text/html": [
       "<div>\n",
       "<style scoped>\n",
       "    .dataframe tbody tr th:only-of-type {\n",
       "        vertical-align: middle;\n",
       "    }\n",
       "\n",
       "    .dataframe tbody tr th {\n",
       "        vertical-align: top;\n",
       "    }\n",
       "\n",
       "    .dataframe thead th {\n",
       "        text-align: right;\n",
       "    }\n",
       "</style>\n",
       "<table border=\"1\" class=\"dataframe\">\n",
       "  <thead>\n",
       "    <tr style=\"text-align: right;\">\n",
       "      <th></th>\n",
       "      <th>form_type</th>\n",
       "      <th>CIK</th>\n",
       "      <th>filing_date</th>\n",
       "      <th>period_of_report</th>\n",
       "      <th>texts_only</th>\n",
       "      <th>image_urls</th>\n",
       "      <th>files_url</th>\n",
       "      <th>form_url</th>\n",
       "      <th>Ticker</th>\n",
       "      <th>CompanyName</th>\n",
       "      <th>item1_business</th>\n",
       "      <th>item1a_risk</th>\n",
       "      <th>item7_mda</th>\n",
       "    </tr>\n",
       "  </thead>\n",
       "  <tbody>\n",
       "    <tr>\n",
       "      <th>0</th>\n",
       "      <td>10-K</td>\n",
       "      <td>66740</td>\n",
       "      <td>2022-02-09</td>\n",
       "      <td>2021-12-31</td>\n",
       "      <td>mmm-202112310000066740falsefalse2021FYP10YP20Y...</td>\n",
       "      <td>[]</td>\n",
       "      <td>https://www.sec.gov/Archives/edgar/data/66740/...</td>\n",
       "      <td>https://www.sec.gov/Archives/edgar/data/66740/...</td>\n",
       "      <td>MMM</td>\n",
       "      <td>3M</td>\n",
       "      <td>Item 1. Business.3M Company was incorporated i...</td>\n",
       "      <td>Item 1A, Risk Factors, of this document, and s...</td>\n",
       "      <td>Item 7 may involve risks and uncertainties tha...</td>\n",
       "    </tr>\n",
       "    <tr>\n",
       "      <th>1</th>\n",
       "      <td>10-K</td>\n",
       "      <td>66740</td>\n",
       "      <td>2021-02-04</td>\n",
       "      <td>2020-12-31</td>\n",
       "      <td>Common Stock, Par Value $.01 Per Share--12-312...</td>\n",
       "      <td>[]</td>\n",
       "      <td>https://www.sec.gov/Archives/edgar/data/66740/...</td>\n",
       "      <td>https://www.sec.gov/Archives/edgar/data/66740/...</td>\n",
       "      <td>MMM</td>\n",
       "      <td>3M</td>\n",
       "      <td>Item 1, Business Segments, provides an overvie...</td>\n",
       "      <td>Item 1A, Risk Factors, of this document, and s...</td>\n",
       "      <td>Item 7 may involve risks and uncertainties tha...</td>\n",
       "    </tr>\n",
       "    <tr>\n",
       "      <th>2</th>\n",
       "      <td>10-K</td>\n",
       "      <td>66740</td>\n",
       "      <td>2020-02-06</td>\n",
       "      <td>2019-12-31</td>\n",
       "      <td>Common Stock, Par Value $.01 Per SharetrueP20Y...</td>\n",
       "      <td>[]</td>\n",
       "      <td>https://www.sec.gov/Archives/edgar/data/66740/...</td>\n",
       "      <td>https://www.sec.gov/Archives/edgar/data/66740/...</td>\n",
       "      <td>MMM</td>\n",
       "      <td>3M</td>\n",
       "      <td>Item 1, Business Segments. Disclosures relatin...</td>\n",
       "      <td>Item 1A, Risk Factors, of this document, and s...</td>\n",
       "      <td>Item 7 may involve risks and uncertainties tha...</td>\n",
       "    </tr>\n",
       "    <tr>\n",
       "      <th>3</th>\n",
       "      <td>10-K</td>\n",
       "      <td>91142</td>\n",
       "      <td>2022-02-11</td>\n",
       "      <td>2021-12-31</td>\n",
       "      <td>aos-20211231false0000091142FY2021P3YP3YP5YP1YP...</td>\n",
       "      <td>['https://www.sec.gov/Archives/edgar/data/9114...</td>\n",
       "      <td>https://www.sec.gov/Archives/edgar/data/91142/...</td>\n",
       "      <td>https://www.sec.gov/Archives/edgar/data/91142/...</td>\n",
       "      <td>AOS</td>\n",
       "      <td>A. O. Smith</td>\n",
       "      <td>Item 1.Business 3Item 1A.Risk Factors7Item 1B....</td>\n",
       "      <td>Item 1A.Risk Factors7Item 1B.Unresolved Staff ...</td>\n",
       "      <td>Item 7 of this Annual Report on Form 10-K.Our ...</td>\n",
       "    </tr>\n",
       "    <tr>\n",
       "      <th>4</th>\n",
       "      <td>10-K</td>\n",
       "      <td>91142</td>\n",
       "      <td>2021-02-12</td>\n",
       "      <td>2020-12-31</td>\n",
       "      <td>aos-20201231false0000091142FYAOS2020P3YP3YP5YP...</td>\n",
       "      <td>['https://www.sec.gov/Archives/edgar/data/9114...</td>\n",
       "      <td>https://www.sec.gov/Archives/edgar/data/91142/...</td>\n",
       "      <td>https://www.sec.gov/Archives/edgar/data/91142/...</td>\n",
       "      <td>AOS</td>\n",
       "      <td>A. O. Smith</td>\n",
       "      <td>Item 1.Business 3Item 1A.Risk Factors6Item 1B....</td>\n",
       "      <td>Item 1A.Risk Factors6Item 1B.Unresolved Staff ...</td>\n",
       "      <td>Item 7 of this Annual Report on Form 10-K.Our ...</td>\n",
       "    </tr>\n",
       "  </tbody>\n",
       "</table>\n",
       "</div>"
      ],
      "text/plain": [
       "  form_type    CIK filing_date period_of_report  \\\n",
       "0      10-K  66740  2022-02-09       2021-12-31   \n",
       "1      10-K  66740  2021-02-04       2020-12-31   \n",
       "2      10-K  66740  2020-02-06       2019-12-31   \n",
       "3      10-K  91142  2022-02-11       2021-12-31   \n",
       "4      10-K  91142  2021-02-12       2020-12-31   \n",
       "\n",
       "                                          texts_only  \\\n",
       "0  mmm-202112310000066740falsefalse2021FYP10YP20Y...   \n",
       "1  Common Stock, Par Value $.01 Per Share--12-312...   \n",
       "2  Common Stock, Par Value $.01 Per SharetrueP20Y...   \n",
       "3  aos-20211231false0000091142FY2021P3YP3YP5YP1YP...   \n",
       "4  aos-20201231false0000091142FYAOS2020P3YP3YP5YP...   \n",
       "\n",
       "                                          image_urls  \\\n",
       "0                                                 []   \n",
       "1                                                 []   \n",
       "2                                                 []   \n",
       "3  ['https://www.sec.gov/Archives/edgar/data/9114...   \n",
       "4  ['https://www.sec.gov/Archives/edgar/data/9114...   \n",
       "\n",
       "                                           files_url  \\\n",
       "0  https://www.sec.gov/Archives/edgar/data/66740/...   \n",
       "1  https://www.sec.gov/Archives/edgar/data/66740/...   \n",
       "2  https://www.sec.gov/Archives/edgar/data/66740/...   \n",
       "3  https://www.sec.gov/Archives/edgar/data/91142/...   \n",
       "4  https://www.sec.gov/Archives/edgar/data/91142/...   \n",
       "\n",
       "                                            form_url Ticker  CompanyName  \\\n",
       "0  https://www.sec.gov/Archives/edgar/data/66740/...    MMM           3M   \n",
       "1  https://www.sec.gov/Archives/edgar/data/66740/...    MMM           3M   \n",
       "2  https://www.sec.gov/Archives/edgar/data/66740/...    MMM           3M   \n",
       "3  https://www.sec.gov/Archives/edgar/data/91142/...    AOS  A. O. Smith   \n",
       "4  https://www.sec.gov/Archives/edgar/data/91142/...    AOS  A. O. Smith   \n",
       "\n",
       "                                      item1_business  \\\n",
       "0  Item 1. Business.3M Company was incorporated i...   \n",
       "1  Item 1, Business Segments, provides an overvie...   \n",
       "2  Item 1, Business Segments. Disclosures relatin...   \n",
       "3  Item 1.Business 3Item 1A.Risk Factors7Item 1B....   \n",
       "4  Item 1.Business 3Item 1A.Risk Factors6Item 1B....   \n",
       "\n",
       "                                         item1a_risk  \\\n",
       "0  Item 1A, Risk Factors, of this document, and s...   \n",
       "1  Item 1A, Risk Factors, of this document, and s...   \n",
       "2  Item 1A, Risk Factors, of this document, and s...   \n",
       "3  Item 1A.Risk Factors7Item 1B.Unresolved Staff ...   \n",
       "4  Item 1A.Risk Factors6Item 1B.Unresolved Staff ...   \n",
       "\n",
       "                                           item7_mda  \n",
       "0  Item 7 may involve risks and uncertainties tha...  \n",
       "1  Item 7 may involve risks and uncertainties tha...  \n",
       "2  Item 7 may involve risks and uncertainties tha...  \n",
       "3  Item 7 of this Annual Report on Form 10-K.Our ...  \n",
       "4  Item 7 of this Annual Report on Form 10-K.Our ...  "
      ]
     },
     "execution_count": 3,
     "metadata": {},
     "output_type": "execute_result"
    }
   ],
   "source": [
    "%%time\n",
    "df = pd.read_csv(data_filepath)\n",
    "print(len(df))\n",
    "df.head()"
   ]
  },
  {
   "cell_type": "code",
   "execution_count": 4,
   "id": "9373d854",
   "metadata": {},
   "outputs": [
    {
     "name": "stdout",
     "output_type": "stream",
     "text": [
      "Dropped 87\n",
      "Final number of documents = 1342\n"
     ]
    }
   ],
   "source": [
    "original_len = len(df)\n",
    "\n",
    "# FORM 10-K/A 삭제\n",
    "df = df[df['item1_business']!='FORM 10-K/A!']\n",
    "print('Dropped {}'.format(original_len - len(df)))\n",
    "\n",
    "print('Final number of documents = {}'.format(len(df)))"
   ]
  },
  {
   "cell_type": "code",
   "execution_count": 5,
   "id": "62d68574",
   "metadata": {},
   "outputs": [
    {
     "name": "stdout",
     "output_type": "stream",
     "text": [
      "item1_business\n",
      "min=21\n",
      "Median=39745.5\n",
      "max=139163\n",
      "Number of inappropriately processed documents: 55 (4.10%)\n",
      "\n",
      "item1a_risk\n",
      "min=21\n",
      "Median=62702.0\n",
      "max=156849\n",
      "Number of inappropriately processed documents: 108 (8.05%)\n",
      "\n",
      "item7_mda\n",
      "min=21\n",
      "Median=75065.0\n",
      "max=173664\n",
      "Number of inappropriately processed documents: 117 (8.72%)\n",
      "\n"
     ]
    }
   ],
   "source": [
    "for colname, origin_colname in [('len_item1', 'item1_business'), ('len_item1a', 'item1a_risk'), \\\n",
    "                                ('len_item7', 'item7_mda')]:\n",
    "    df[colname] = df[origin_colname].apply(lambda x: len(x))\n",
    "    print(origin_colname)\n",
    "    print('min={}\\nMedian={}\\nmax={}'.format(df[colname].min(), df[colname].median(), df[colname].max()))\n",
    "    print('Number of inappropriately processed documents: {} ({:.2f}%)\\n'.format(\\\n",
    "         len(df[(df[origin_colname]=='Something went wrong!')]), 100*len(df[(df[origin_colname]=='Something went wrong!')])/len(df)))"
   ]
  },
  {
   "cell_type": "markdown",
   "id": "dfccfb74",
   "metadata": {},
   "source": [
    "잘 처리되지 못한 케이스 확인"
   ]
  },
  {
   "cell_type": "code",
   "execution_count": 14,
   "id": "cf93c8a3",
   "metadata": {},
   "outputs": [
    {
     "name": "stdout",
     "output_type": "stream",
     "text": [
      "21\n",
      "['Cardinal Health' 'Citigroup' 'Clorox' 'Edison International' 'GE'\n",
      " 'Halliburton' 'Honeywell' 'Illumina' 'Intel' 'Intercontinental Exchange'\n",
      " \"McDonald's\" 'Moderna' 'Molina Healthcare' 'Morgan Stanley' 'Prudential'\n",
      " 'PulteGroup' 'Rollins' 'Synchrony' 'Viatris' 'Vulcan Materials'\n",
      " 'Weyerhaeuser']\n"
     ]
    },
    {
     "data": {
      "text/plain": [
       "array(['https://www.sec.gov/Archives/edgar/data/721371/000072137121000080/cah-20210630.htm',\n",
       "       'https://www.sec.gov/Archives/edgar/data/721371/000072137120000089/a20q410k063020form10-k.htm',\n",
       "       'https://www.sec.gov/Archives/edgar/data/831001/000083100122000036/c-20211231.htm',\n",
       "       'https://www.sec.gov/Archives/edgar/data/831001/000083100121000042/c-20201231.htm',\n",
       "       'https://www.sec.gov/Archives/edgar/data/831001/000083100120000031/c-12312019x10k.htm'],\n",
       "      dtype=object)"
      ]
     },
     "execution_count": 14,
     "metadata": {},
     "output_type": "execute_result"
    }
   ],
   "source": [
    "colname = 'item1_business'\n",
    "print(len(df[(df[colname]=='Something went wrong!')]['CompanyName'].unique()))\n",
    "print(df[(df[colname]=='Something went wrong!')]['CompanyName'].unique())\n",
    "df[(df[colname]=='Something went wrong!')]['form_url'].values[:5]"
   ]
  },
  {
   "cell_type": "code",
   "execution_count": 15,
   "id": "8c427348",
   "metadata": {},
   "outputs": [
    {
     "name": "stdout",
     "output_type": "stream",
     "text": [
      "46\n",
      "['Alexandria' 'American Airlines Group' 'Arista' 'AT&T' 'Booking Holdings'\n",
      " 'Cardinal Health' 'Citigroup' 'Clorox' 'Constellation Brands' 'Costco'\n",
      " 'DexCom' 'Digital Realty' 'Eastman' 'Edison International' 'Enphase'\n",
      " 'Entergy' 'Etsy' 'Fortinet' 'GE' 'Global Payments' 'Halliburton'\n",
      " 'Hartford (The)' 'Honeywell' 'Illumina' 'Intel'\n",
      " 'Intercontinental Exchange' 'Intuitive Surgical' \"McDonald's\" 'Meta'\n",
      " 'Moderna' 'Molina Healthcare' 'Morgan Stanley' 'Newmont' 'Pfizer'\n",
      " 'Rollins' 'SBA Communications' 'Sempra Energy' 'State Street' 'Synchrony'\n",
      " 'Truist' 'U.S. Bank' 'Viatris' 'Vulcan Materials' 'Wells Fargo'\n",
      " 'West Pharmaceutical Services' 'Weyerhaeuser']\n"
     ]
    },
    {
     "data": {
      "text/plain": [
       "array(['https://www.sec.gov/Archives/edgar/data/1035443/000103544322000040/are-20211231.htm',\n",
       "       'https://www.sec.gov/Archives/edgar/data/1035443/000103544320000042/a4q1910-k.htm',\n",
       "       'https://www.sec.gov/Archives/edgar/data/4515/000000620122000026/aal-20211231.htm',\n",
       "       'https://www.sec.gov/Archives/edgar/data/1596532/000159653222000026/anet-20211231.htm',\n",
       "       'https://www.sec.gov/Archives/edgar/data/1596532/000159653220000024/anet20191231-10k.htm'],\n",
       "      dtype=object)"
      ]
     },
     "execution_count": 15,
     "metadata": {},
     "output_type": "execute_result"
    }
   ],
   "source": [
    "colname = 'item1a_risk'\n",
    "print(len(df[(df[colname]=='Something went wrong!')]['CompanyName'].unique()))\n",
    "print(df[(df[colname]=='Something went wrong!')]['CompanyName'].unique())\n",
    "df[(df[colname]=='Something went wrong!')]['form_url'].values[:5]"
   ]
  },
  {
   "cell_type": "code",
   "execution_count": 16,
   "id": "a5c0d3d2",
   "metadata": {},
   "outputs": [
    {
     "name": "stdout",
     "output_type": "stream",
     "text": [
      "45\n",
      "['Allstate' 'American Electric Power' 'Bank of America'\n",
      " 'Boston Properties' 'Capital One' 'Cardinal Health' 'Chevron' 'Chubb'\n",
      " 'Citigroup' 'Clorox' 'Costco' 'Edison International' 'Fifth Third Bank'\n",
      " 'Freeport-McMoRan' 'GE' 'Goldman Sachs' 'Halliburton' 'Hartford (The)'\n",
      " 'Honeywell' 'Illumina' 'Intel' 'M&T Bank' \"McDonald's\" 'MetLife'\n",
      " 'Molina Healthcare' 'Morgan Stanley' 'Mosaic' 'NiSource' 'Northern Trust'\n",
      " 'PepsiCo' 'Progressive' 'Prudential' 'Quest Diagnostics' 'Regions'\n",
      " 'State Street' 'SVB Financial' 'Synchrony' 'Travelers' 'Truist'\n",
      " 'U.S. Bank' 'Universal Health Services' 'Viatris' 'Vulcan Materials'\n",
      " 'Wells Fargo' 'Weyerhaeuser']\n"
     ]
    },
    {
     "data": {
      "text/plain": [
       "array(['https://www.sec.gov/Archives/edgar/data/899051/000089905122000015/all-20211231.htm',\n",
       "       'https://www.sec.gov/Archives/edgar/data/899051/000089905121000011/all-20201231.htm',\n",
       "       'https://www.sec.gov/Archives/edgar/data/899051/000089905120000013/allcorp-12311910xk.htm',\n",
       "       'https://www.sec.gov/Archives/edgar/data/4904/000000490422000024/aep-20211231.htm',\n",
       "       'https://www.sec.gov/Archives/edgar/data/4904/000000490421000010/aep-20201231.htm'],\n",
       "      dtype=object)"
      ]
     },
     "execution_count": 16,
     "metadata": {},
     "output_type": "execute_result"
    }
   ],
   "source": [
    "colname = 'item7_mda'\n",
    "print(len(df[(df[colname]=='Something went wrong!')]['CompanyName'].unique()))\n",
    "print(df[(df[colname]=='Something went wrong!')]['CompanyName'].unique())\n",
    "df[(df[colname]=='Something went wrong!')]['form_url'].values[:5]"
   ]
  },
  {
   "cell_type": "code",
   "execution_count": 9,
   "id": "08ea060c",
   "metadata": {},
   "outputs": [
    {
     "name": "stdout",
     "output_type": "stream",
     "text": [
      "item1_business,1287 (95.90%)\n",
      "item1a_risk,1234 (91.95%)\n",
      "item7_mda,1225 (91.28%)\n"
     ]
    }
   ],
   "source": [
    "# 잘 처리된 문서 개수\n",
    "for origin_colname in ['item1_business', 'item1a_risk', 'item7_mda']:\n",
    "    print('{},{} ({:.2f}%)'.format(origin_colname, len(df[(df[origin_colname]!='Something went wrong!')]), \\\n",
    "                              100*len(df[(df[origin_colname]!='Something went wrong!')])/len(df)))"
   ]
  },
  {
   "cell_type": "code",
   "execution_count": null,
   "id": "5280fcd5",
   "metadata": {},
   "outputs": [],
   "source": [
    "df[(df['len_item1']>21)].sort_values(by=['len_item1'])['form_url'].values[:5]"
   ]
  },
  {
   "cell_type": "code",
   "execution_count": null,
   "id": "2130b555",
   "metadata": {},
   "outputs": [],
   "source": [
    "content='''\n",
    "GENERAL\n",
    "\n",
    "As used in this Annual Report on Form 10-K, the “Company” refers, unless the context otherwise requires, to PGI Incorporated and its subsidiaries.  The Company’s executive offices are at 212 S. Central, St. Louis, Missouri, 63105, and its telephone number is (314) 512-8650.\n",
    "\n",
    "The Company, a Florida corporation, was founded in 1958, and up until the mid 1990’s was in the business of building and selling homes, developing and selling home sites and selling undeveloped or partially developed tracts of land.  Over approximately the last 20 years, the Company’s business focus and emphasis changed substantially as it has concentrated its sales and marketing efforts almost exclusively on the disposition of its remaining real estate. This change was prompted by its continuing financial difficulties due to the principal and interest owed on its debt.\n",
    "\n",
    "Presently, the most valuable remaining asset of the Company is an undeveloped parcel of 366 acres located in Hernando County, Florida. The Company also owns a number of scattered sites in Charlotte County, Florida (the “Charlotte Property”), which total approximately 60 acres, but most of these sites are subject to easements which markedly reduce their value, consist of wetlands of indeterminate value and/or are subject to obstacles to development and the sale of such property.  As of December 31, 2015, the Company also owned six single family lots and an approximate 7 acre parcel located in Citrus County, Florida.\n",
    "\n",
    "As of December 31, 2015, the Company had no employees, and all services provided to the Company are through contract services.\n",
    "\n",
    "MOST RECENT DEVELOPMENTS\n",
    "\n",
    "The principal remaining real property asset of the Company is a 366 acre undeveloped parcel in Hernando County, Florida, which property is encumbered by secured creditor claims.\n",
    "\n",
    "Until recently, the potential development and sale of this parcel was unclear due to the uncertainty regarding whether the Suncoast Parkway, which terminates on the south side of Route 98 opposite this property, would be extended.  The State of Florida, however, has indicated that it plans to proceed with the northward continuation of the Suncoast Parkway as part of the Suncoast Parkway Project 2.  The Florida Department of Transportation - Florida’s Turnpike Enterprise website for the Suncoast Parkway Project 2 provides preliminary plans and certain other information with respect to this proposed extension.  The Company believes that the State of Florida has begun the process of acquiring the required right-of-ways for this project and has a goal of acquiring them by December, 2016.  The State of Florida has expressed an interest in acquiring this 366 acre parcel, or a portion thereof, from the Company in connection with the Suncoast Parkway Project 2.  There is no agreement for the purchase of all or any portion of this 366 acre parcel by the State of Florida at this time.'''\n",
    "len(content)"
   ]
  }
 ],
 "metadata": {
  "kernelspec": {
   "display_name": "torchtext",
   "language": "python",
   "name": "torchtext"
  },
  "language_info": {
   "codemirror_mode": {
    "name": "ipython",
    "version": 3
   },
   "file_extension": ".py",
   "mimetype": "text/x-python",
   "name": "python",
   "nbconvert_exporter": "python",
   "pygments_lexer": "ipython3",
   "version": "3.6.5"
  }
 },
 "nbformat": 4,
 "nbformat_minor": 5
}
