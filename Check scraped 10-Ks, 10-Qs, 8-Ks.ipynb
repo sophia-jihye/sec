{
 "cells": [
  {
   "cell_type": "code",
   "execution_count": 1,
   "id": "197c9b8f",
   "metadata": {},
   "outputs": [],
   "source": [
    "import os, copy, ast\n",
    "import pandas as pd\n",
    "from tqdm import tqdm \n",
    "tqdm.pandas()\n",
    "import seaborn as sns"
   ]
  },
  {
   "cell_type": "code",
   "execution_count": 2,
   "id": "84915f9a",
   "metadata": {},
   "outputs": [],
   "source": [
    "data_dir = '/media/dmlab/My Passport/DATA/sec'\n",
    "data_filepath = os.path.join(data_dir, 'Data_2022-03-10.csv')\n",
    "sp500_filepath = os.path.join(data_dir, '2022-03-02_S&P500_List.csv')"
   ]
  },
  {
   "cell_type": "markdown",
   "id": "7b01d06a",
   "metadata": {},
   "source": [
    "10-K, 10-Q, 8-K 스크랩핑 대상: 2022-03-02 기준 S&P 500에 포함된 505개 기업"
   ]
  },
  {
   "cell_type": "code",
   "execution_count": 3,
   "id": "fa6845fe",
   "metadata": {},
   "outputs": [
    {
     "name": "stdout",
     "output_type": "stream",
     "text": [
      "505\n"
     ]
    },
    {
     "data": {
      "text/html": [
       "<div>\n",
       "<style scoped>\n",
       "    .dataframe tbody tr th:only-of-type {\n",
       "        vertical-align: middle;\n",
       "    }\n",
       "\n",
       "    .dataframe tbody tr th {\n",
       "        vertical-align: top;\n",
       "    }\n",
       "\n",
       "    .dataframe thead th {\n",
       "        text-align: right;\n",
       "    }\n",
       "</style>\n",
       "<table border=\"1\" class=\"dataframe\">\n",
       "  <thead>\n",
       "    <tr style=\"text-align: right;\">\n",
       "      <th></th>\n",
       "      <th>Symbol</th>\n",
       "      <th>Security</th>\n",
       "      <th>SEC filings</th>\n",
       "      <th>GICS Sector</th>\n",
       "      <th>GICS Sub-Industry</th>\n",
       "      <th>Headquarters Location</th>\n",
       "      <th>Date first added</th>\n",
       "      <th>Founded</th>\n",
       "    </tr>\n",
       "    <tr>\n",
       "      <th>CIK</th>\n",
       "      <th></th>\n",
       "      <th></th>\n",
       "      <th></th>\n",
       "      <th></th>\n",
       "      <th></th>\n",
       "      <th></th>\n",
       "      <th></th>\n",
       "      <th></th>\n",
       "    </tr>\n",
       "  </thead>\n",
       "  <tbody>\n",
       "    <tr>\n",
       "      <th>66740</th>\n",
       "      <td>MMM</td>\n",
       "      <td>3M</td>\n",
       "      <td>reports</td>\n",
       "      <td>Industrials</td>\n",
       "      <td>Industrial Conglomerates</td>\n",
       "      <td>Saint Paul, Minnesota</td>\n",
       "      <td>1976-08-09</td>\n",
       "      <td>1902</td>\n",
       "    </tr>\n",
       "    <tr>\n",
       "      <th>91142</th>\n",
       "      <td>AOS</td>\n",
       "      <td>A. O. Smith</td>\n",
       "      <td>reports</td>\n",
       "      <td>Industrials</td>\n",
       "      <td>Building Products</td>\n",
       "      <td>Milwaukee, Wisconsin</td>\n",
       "      <td>2017-07-26</td>\n",
       "      <td>1916</td>\n",
       "    </tr>\n",
       "    <tr>\n",
       "      <th>1800</th>\n",
       "      <td>ABT</td>\n",
       "      <td>Abbott</td>\n",
       "      <td>reports</td>\n",
       "      <td>Health Care</td>\n",
       "      <td>Health Care Equipment</td>\n",
       "      <td>North Chicago, Illinois</td>\n",
       "      <td>1964-03-31</td>\n",
       "      <td>1888</td>\n",
       "    </tr>\n",
       "    <tr>\n",
       "      <th>1551152</th>\n",
       "      <td>ABBV</td>\n",
       "      <td>AbbVie</td>\n",
       "      <td>reports</td>\n",
       "      <td>Health Care</td>\n",
       "      <td>Pharmaceuticals</td>\n",
       "      <td>North Chicago, Illinois</td>\n",
       "      <td>2012-12-31</td>\n",
       "      <td>2013 (1888)</td>\n",
       "    </tr>\n",
       "    <tr>\n",
       "      <th>815094</th>\n",
       "      <td>ABMD</td>\n",
       "      <td>Abiomed</td>\n",
       "      <td>reports</td>\n",
       "      <td>Health Care</td>\n",
       "      <td>Health Care Equipment</td>\n",
       "      <td>Danvers, Massachusetts</td>\n",
       "      <td>2018-05-31</td>\n",
       "      <td>1981</td>\n",
       "    </tr>\n",
       "  </tbody>\n",
       "</table>\n",
       "</div>"
      ],
      "text/plain": [
       "        Symbol     Security SEC filings  GICS Sector  \\\n",
       "CIK                                                    \n",
       "66740      MMM           3M     reports  Industrials   \n",
       "91142      AOS  A. O. Smith     reports  Industrials   \n",
       "1800       ABT       Abbott     reports  Health Care   \n",
       "1551152   ABBV       AbbVie     reports  Health Care   \n",
       "815094    ABMD      Abiomed     reports  Health Care   \n",
       "\n",
       "                GICS Sub-Industry    Headquarters Location Date first added  \\\n",
       "CIK                                                                           \n",
       "66740    Industrial Conglomerates    Saint Paul, Minnesota       1976-08-09   \n",
       "91142           Building Products     Milwaukee, Wisconsin       2017-07-26   \n",
       "1800        Health Care Equipment  North Chicago, Illinois       1964-03-31   \n",
       "1551152           Pharmaceuticals  North Chicago, Illinois       2012-12-31   \n",
       "815094      Health Care Equipment   Danvers, Massachusetts       2018-05-31   \n",
       "\n",
       "             Founded  \n",
       "CIK                   \n",
       "66740           1902  \n",
       "91142           1916  \n",
       "1800            1888  \n",
       "1551152  2013 (1888)  \n",
       "815094          1981  "
      ]
     },
     "execution_count": 3,
     "metadata": {},
     "output_type": "execute_result"
    }
   ],
   "source": [
    "sp500_df = pd.read_csv(sp500_filepath)\n",
    "sp500_df.set_index('CIK',inplace=True)\n",
    "print(len(sp500_df))\n",
    "sp500_df.head()"
   ]
  },
  {
   "cell_type": "code",
   "execution_count": 4,
   "id": "48d39e4d",
   "metadata": {},
   "outputs": [
    {
     "name": "stdout",
     "output_type": "stream",
     "text": [
      "20545\n"
     ]
    },
    {
     "data": {
      "text/html": [
       "<div>\n",
       "<style scoped>\n",
       "    .dataframe tbody tr th:only-of-type {\n",
       "        vertical-align: middle;\n",
       "    }\n",
       "\n",
       "    .dataframe tbody tr th {\n",
       "        vertical-align: top;\n",
       "    }\n",
       "\n",
       "    .dataframe thead th {\n",
       "        text-align: right;\n",
       "    }\n",
       "</style>\n",
       "<table border=\"1\" class=\"dataframe\">\n",
       "  <thead>\n",
       "    <tr style=\"text-align: right;\">\n",
       "      <th></th>\n",
       "      <th>CIK</th>\n",
       "      <th>form_type</th>\n",
       "      <th>filing_date</th>\n",
       "      <th>period_of_report</th>\n",
       "      <th>texts_only</th>\n",
       "      <th>image_urls</th>\n",
       "      <th>files_url</th>\n",
       "      <th>form_url</th>\n",
       "      <th>Ticker</th>\n",
       "      <th>CompanyName</th>\n",
       "    </tr>\n",
       "  </thead>\n",
       "  <tbody>\n",
       "    <tr>\n",
       "      <th>0</th>\n",
       "      <td>66740</td>\n",
       "      <td>10-K</td>\n",
       "      <td>2022-02-09</td>\n",
       "      <td>2021-12-31</td>\n",
       "      <td>mmm-202112310000066740falsefalse2021FYP10YP20Y...</td>\n",
       "      <td>[]</td>\n",
       "      <td>https://www.sec.gov/Archives/edgar/data/66740/...</td>\n",
       "      <td>https://www.sec.gov/Archives/edgar/data/66740/...</td>\n",
       "      <td>MMM</td>\n",
       "      <td>3M</td>\n",
       "    </tr>\n",
       "    <tr>\n",
       "      <th>1</th>\n",
       "      <td>66740</td>\n",
       "      <td>10-K</td>\n",
       "      <td>2021-02-04</td>\n",
       "      <td>2020-12-31</td>\n",
       "      <td>Common Stock, Par Value $.01 Per Share--12-312...</td>\n",
       "      <td>[]</td>\n",
       "      <td>https://www.sec.gov/Archives/edgar/data/66740/...</td>\n",
       "      <td>https://www.sec.gov/Archives/edgar/data/66740/...</td>\n",
       "      <td>MMM</td>\n",
       "      <td>3M</td>\n",
       "    </tr>\n",
       "    <tr>\n",
       "      <th>2</th>\n",
       "      <td>66740</td>\n",
       "      <td>10-K</td>\n",
       "      <td>2020-02-06</td>\n",
       "      <td>2019-12-31</td>\n",
       "      <td>Common Stock, Par Value $.01 Per SharetrueP20Y...</td>\n",
       "      <td>[]</td>\n",
       "      <td>https://www.sec.gov/Archives/edgar/data/66740/...</td>\n",
       "      <td>https://www.sec.gov/Archives/edgar/data/66740/...</td>\n",
       "      <td>MMM</td>\n",
       "      <td>3M</td>\n",
       "    </tr>\n",
       "    <tr>\n",
       "      <th>3</th>\n",
       "      <td>91142</td>\n",
       "      <td>10-K</td>\n",
       "      <td>2022-02-11</td>\n",
       "      <td>2021-12-31</td>\n",
       "      <td>aos-20211231false0000091142FY2021P3YP3YP5YP1YP...</td>\n",
       "      <td>[https://www.sec.gov/Archives/edgar/data/91142...</td>\n",
       "      <td>https://www.sec.gov/Archives/edgar/data/91142/...</td>\n",
       "      <td>https://www.sec.gov/Archives/edgar/data/91142/...</td>\n",
       "      <td>AOS</td>\n",
       "      <td>A. O. Smith</td>\n",
       "    </tr>\n",
       "    <tr>\n",
       "      <th>4</th>\n",
       "      <td>91142</td>\n",
       "      <td>10-K</td>\n",
       "      <td>2021-02-12</td>\n",
       "      <td>2020-12-31</td>\n",
       "      <td>aos-20201231false0000091142FYAOS2020P3YP3YP5YP...</td>\n",
       "      <td>[https://www.sec.gov/Archives/edgar/data/91142...</td>\n",
       "      <td>https://www.sec.gov/Archives/edgar/data/91142/...</td>\n",
       "      <td>https://www.sec.gov/Archives/edgar/data/91142/...</td>\n",
       "      <td>AOS</td>\n",
       "      <td>A. O. Smith</td>\n",
       "    </tr>\n",
       "  </tbody>\n",
       "</table>\n",
       "</div>"
      ],
      "text/plain": [
       "     CIK form_type filing_date period_of_report  \\\n",
       "0  66740      10-K  2022-02-09       2021-12-31   \n",
       "1  66740      10-K  2021-02-04       2020-12-31   \n",
       "2  66740      10-K  2020-02-06       2019-12-31   \n",
       "3  91142      10-K  2022-02-11       2021-12-31   \n",
       "4  91142      10-K  2021-02-12       2020-12-31   \n",
       "\n",
       "                                          texts_only  \\\n",
       "0  mmm-202112310000066740falsefalse2021FYP10YP20Y...   \n",
       "1  Common Stock, Par Value $.01 Per Share--12-312...   \n",
       "2  Common Stock, Par Value $.01 Per SharetrueP20Y...   \n",
       "3  aos-20211231false0000091142FY2021P3YP3YP5YP1YP...   \n",
       "4  aos-20201231false0000091142FYAOS2020P3YP3YP5YP...   \n",
       "\n",
       "                                          image_urls  \\\n",
       "0                                                 []   \n",
       "1                                                 []   \n",
       "2                                                 []   \n",
       "3  [https://www.sec.gov/Archives/edgar/data/91142...   \n",
       "4  [https://www.sec.gov/Archives/edgar/data/91142...   \n",
       "\n",
       "                                           files_url  \\\n",
       "0  https://www.sec.gov/Archives/edgar/data/66740/...   \n",
       "1  https://www.sec.gov/Archives/edgar/data/66740/...   \n",
       "2  https://www.sec.gov/Archives/edgar/data/66740/...   \n",
       "3  https://www.sec.gov/Archives/edgar/data/91142/...   \n",
       "4  https://www.sec.gov/Archives/edgar/data/91142/...   \n",
       "\n",
       "                                            form_url Ticker  CompanyName  \n",
       "0  https://www.sec.gov/Archives/edgar/data/66740/...    MMM           3M  \n",
       "1  https://www.sec.gov/Archives/edgar/data/66740/...    MMM           3M  \n",
       "2  https://www.sec.gov/Archives/edgar/data/66740/...    MMM           3M  \n",
       "3  https://www.sec.gov/Archives/edgar/data/91142/...    AOS  A. O. Smith  \n",
       "4  https://www.sec.gov/Archives/edgar/data/91142/...    AOS  A. O. Smith  "
      ]
     },
     "execution_count": 4,
     "metadata": {},
     "output_type": "execute_result"
    }
   ],
   "source": [
    "df = pd.read_csv(data_filepath)\n",
    "df['image_urls'] = df['image_urls'].apply(ast.literal_eval)\n",
    "print(len(df))\n",
    "df.head()"
   ]
  },
  {
   "cell_type": "code",
   "execution_count": 5,
   "id": "d3eb633d",
   "metadata": {},
   "outputs": [
    {
     "name": "stdout",
     "output_type": "stream",
     "text": [
      "CIK: 91142\n",
      "form_type: 10-K\n",
      "filing_date: 2022-02-11\n",
      "period_of_report: 2021-12-31\n",
      "image_urls: ['https://www.sec.gov/Archives/edgar/data/91142/000009114222000028/aos-20211231_g1.jpg']\n",
      "files_url: https://www.sec.gov/Archives/edgar/data/91142/000009114222000028/0000091142-22-000028-index.htm\n",
      "form_url: https://www.sec.gov/Archives/edgar/data/91142/000009114222000028/aos-20211231.htm\n",
      "Ticker: AOS\n",
      "CompanyName: A. O. Smith\n"
     ]
    }
   ],
   "source": [
    "for col in df.columns:\n",
    "    if col=='texts_only': continue\n",
    "    print('{}: {}'.format(col, df.iloc[3][col]))"
   ]
  },
  {
   "cell_type": "markdown",
   "id": "9f9ad04a",
   "metadata": {},
   "source": [
    "2022년 3월 9일까지 업로드된 문서 수집 현황"
   ]
  },
  {
   "cell_type": "code",
   "execution_count": 6,
   "id": "75ac38f0",
   "metadata": {},
   "outputs": [
    {
     "name": "stdout",
     "output_type": "stream",
     "text": [
      "10-K 1429\n",
      "10-Q 3107\n",
      "8-K 16009\n"
     ]
    }
   ],
   "source": [
    "for form_type in ['10-K', '10-Q', '8-K']:\n",
    "    print(form_type, len(df[(df['form_type']==form_type)]))"
   ]
  },
  {
   "cell_type": "markdown",
   "id": "8b058960",
   "metadata": {},
   "source": [
    "* 공시기준일(period of report)은 대체로 12월 31일인 경우가 많으나 기업마다 상이하다.\n",
    "* 아래 케이스와 같이 두번에 걸쳐 공시가 발행되는 경우도 있으나, Business description, MD&A 섹션은 11월에 발행된 공시에만 포함되어 있다."
   ]
  },
  {
   "cell_type": "code",
   "execution_count": 7,
   "id": "1b1f957e",
   "metadata": {},
   "outputs": [
    {
     "data": {
      "text/html": [
       "<div>\n",
       "<style scoped>\n",
       "    .dataframe tbody tr th:only-of-type {\n",
       "        vertical-align: middle;\n",
       "    }\n",
       "\n",
       "    .dataframe tbody tr th {\n",
       "        vertical-align: top;\n",
       "    }\n",
       "\n",
       "    .dataframe thead th {\n",
       "        text-align: right;\n",
       "    }\n",
       "</style>\n",
       "<table border=\"1\" class=\"dataframe\">\n",
       "  <thead>\n",
       "    <tr style=\"text-align: right;\">\n",
       "      <th></th>\n",
       "      <th>CIK</th>\n",
       "      <th>Ticker</th>\n",
       "      <th>CompanyName</th>\n",
       "      <th>form_type</th>\n",
       "      <th>filing_date</th>\n",
       "      <th>period_of_report</th>\n",
       "    </tr>\n",
       "  </thead>\n",
       "  <tbody>\n",
       "    <tr>\n",
       "      <th>1187</th>\n",
       "      <td>4127</td>\n",
       "      <td>SWKS</td>\n",
       "      <td>Skyworks</td>\n",
       "      <td>10-K</td>\n",
       "      <td>2022-01-28</td>\n",
       "      <td>2021-10-01</td>\n",
       "    </tr>\n",
       "    <tr>\n",
       "      <th>1188</th>\n",
       "      <td>4127</td>\n",
       "      <td>SWKS</td>\n",
       "      <td>Skyworks</td>\n",
       "      <td>10-K</td>\n",
       "      <td>2021-11-24</td>\n",
       "      <td>2021-10-01</td>\n",
       "    </tr>\n",
       "    <tr>\n",
       "      <th>1189</th>\n",
       "      <td>4127</td>\n",
       "      <td>SWKS</td>\n",
       "      <td>Skyworks</td>\n",
       "      <td>10-K</td>\n",
       "      <td>2021-01-29</td>\n",
       "      <td>2020-10-02</td>\n",
       "    </tr>\n",
       "    <tr>\n",
       "      <th>1190</th>\n",
       "      <td>4127</td>\n",
       "      <td>SWKS</td>\n",
       "      <td>Skyworks</td>\n",
       "      <td>10-K</td>\n",
       "      <td>2020-11-17</td>\n",
       "      <td>2020-10-02</td>\n",
       "    </tr>\n",
       "    <tr>\n",
       "      <th>1191</th>\n",
       "      <td>4127</td>\n",
       "      <td>SWKS</td>\n",
       "      <td>Skyworks</td>\n",
       "      <td>10-K</td>\n",
       "      <td>2020-01-27</td>\n",
       "      <td>2019-09-27</td>\n",
       "    </tr>\n",
       "  </tbody>\n",
       "</table>\n",
       "</div>"
      ],
      "text/plain": [
       "       CIK Ticker CompanyName form_type filing_date period_of_report\n",
       "1187  4127   SWKS    Skyworks      10-K  2022-01-28       2021-10-01\n",
       "1188  4127   SWKS    Skyworks      10-K  2021-11-24       2021-10-01\n",
       "1189  4127   SWKS    Skyworks      10-K  2021-01-29       2020-10-02\n",
       "1190  4127   SWKS    Skyworks      10-K  2020-11-17       2020-10-02\n",
       "1191  4127   SWKS    Skyworks      10-K  2020-01-27       2019-09-27"
      ]
     },
     "execution_count": 7,
     "metadata": {},
     "output_type": "execute_result"
    }
   ],
   "source": [
    "df[(df['form_type']=='10-K')&(df['CIK']==4127)][['CIK', 'Ticker', 'CompanyName', 'form_type', 'filing_date', 'period_of_report']]"
   ]
  },
  {
   "cell_type": "code",
   "execution_count": 8,
   "id": "77b381d6",
   "metadata": {},
   "outputs": [
    {
     "data": {
      "text/plain": [
       "array(['https://www.sec.gov/Archives/edgar/data/4127/000000412722000002/swks-20211001.htm',\n",
       "       'https://www.sec.gov/Archives/edgar/data/4127/000000412721000058/swks-20211001.htm',\n",
       "       'https://www.sec.gov/Archives/edgar/data/4127/000000412721000015/swks-20201002.htm',\n",
       "       'https://www.sec.gov/Archives/edgar/data/4127/000000412720000058/swks-20201002.htm',\n",
       "       'https://www.sec.gov/Archives/edgar/data/4127/000000412720000009/fy1910-kajanuary242020.htm'],\n",
       "      dtype=object)"
      ]
     },
     "execution_count": 8,
     "metadata": {},
     "output_type": "execute_result"
    }
   ],
   "source": [
    "# 두번 발행된 공시 예시\n",
    "df[(df['form_type']=='10-K')&(df['CIK']==4127)]['form_url'].values"
   ]
  },
  {
   "cell_type": "markdown",
   "id": "94343015",
   "metadata": {},
   "source": [
    "로고 이미지도 이미지로 처리되었다는 점을 고려하면 미국 기업 공시 문서에서 이미지가 등장하는 비율은 그리 높지 않다고 볼 수 있다."
   ]
  },
  {
   "cell_type": "code",
   "execution_count": 9,
   "id": "2e77b026",
   "metadata": {},
   "outputs": [
    {
     "name": "stdout",
     "output_type": "stream",
     "text": [
      "10-K 1246\n",
      "10-Q 1291\n",
      "8-K 2630\n"
     ]
    }
   ],
   "source": [
    "for form_type in ['10-K', '10-Q', '8-K']:\n",
    "    print(form_type, len(df[(df['form_type']==form_type)&(df['image_urls'].apply(lambda x: len(x)>0))]))"
   ]
  },
  {
   "cell_type": "code",
   "execution_count": 15,
   "id": "e01cc2f7",
   "metadata": {},
   "outputs": [
    {
     "name": "stdout",
     "output_type": "stream",
     "text": [
      "min=1\n",
      "Median=2.0\n",
      "max=223\n"
     ]
    },
    {
     "data": {
      "image/png": "[encoded data removed]",
      "text/plain": [
       "<Figure size 1440x360 with 1 Axes>"
      ]
     },
     "metadata": {},
     "output_type": "display_data"
    }
   ],
   "source": [
    "# 1개 이상의 이미지를 포함하는 문서 대상, 최소,Median,최대 이미지 개수\n",
    "form_type = '10-K'\n",
    "df['# images'] = df['image_urls'].apply(lambda x: len(x))\n",
    "print('min={}\\nMedian={}\\nmax={}'.format(df[(df['form_type']==form_type)&(df['image_urls'].apply(lambda x: len(x)>0))]['# images'].min(), \\\n",
    "    df[(df['form_type']==form_type)&(df['image_urls'].apply(lambda x: len(x)>0))]['# images'].median(), \\\n",
    "    df[(df['form_type']==form_type)&(df['image_urls'].apply(lambda x: len(x)>0))]['# images'].max()))\n",
    "\n",
    "sns.set(rc = {'figure.figsize':(20,5)})\n",
    "plot = sns.countplot(x='# images', data=df[(df['form_type']==form_type)&(df['image_urls'].apply(lambda x: len(x)>0))])"
   ]
  },
  {
   "cell_type": "code",
   "execution_count": 16,
   "id": "835fb564",
   "metadata": {},
   "outputs": [
    {
     "data": {
      "text/plain": [
       "array([list(['https://www.sec.gov/Archives/edgar/data/91142/000009114222000028/aos-20211231_g1.jpg']),\n",
       "       list(['https://www.sec.gov/Archives/edgar/data/91142/000009114221000025/aos-20201231_g1.jpg']),\n",
       "       list(['https://www.sec.gov/Archives/edgar/data/91142/000119312520046736/g846284dsp016.jpg']),\n",
       "       ...,\n",
       "       list(['https://www.sec.gov/Archives/edgar/data/1555280/000155528022000078/zts-20211231_g1.jpg', 'https://www.sec.gov/Archives/edgar/data/1555280/000155528022000078/zts-20211231_g2.jpg', 'https://www.sec.gov/Archives/edgar/data/1555280/000155528022000078/zts-20211231_g3.jpg']),\n",
       "       list(['https://www.sec.gov/Archives/edgar/data/1555280/000155528021000098/zts-20201231_g1.jpg', 'https://www.sec.gov/Archives/edgar/data/1555280/000155528021000098/zts-20201231_g2.jpg', 'https://www.sec.gov/Archives/edgar/data/1555280/000155528021000098/zts-20201231_g3.jpg']),\n",
       "       list(['https://www.sec.gov/Archives/edgar/data/1555280/000155528020000054/zoetis-20141_chartx41886a06.jpg', 'https://www.sec.gov/Archives/edgar/data/1555280/000155528020000054/zoetis-20141_chartx43806a06.jpg', 'https://www.sec.gov/Archives/edgar/data/1555280/000155528020000054/zoetis-20131_chartx03716a06.jpg'])],\n",
       "      dtype=object)"
      ]
     },
     "execution_count": 16,
     "metadata": {},
     "output_type": "execute_result"
    }
   ],
   "source": [
    "# 이미지 예시\n",
    "df[(df['form_type']==form_type)&(df['image_urls'].apply(lambda x: len(x)>0))]['image_urls'].values"
   ]
  },
  {
   "cell_type": "code",
   "execution_count": 17,
   "id": "a5456a7e",
   "metadata": {},
   "outputs": [
    {
     "name": "stdout",
     "output_type": "stream",
     "text": [
      "['https://www.sec.gov/Archives/edgar/data/50863/000005086321000010/intc-20201226.htm'\n",
      " 'https://www.sec.gov/Archives/edgar/data/50863/000005086320000011/a12282019q4-10kdocument.htm']\n"
     ]
    },
    {
     "data": {
      "text/html": [
       "<div>\n",
       "<style scoped>\n",
       "    .dataframe tbody tr th:only-of-type {\n",
       "        vertical-align: middle;\n",
       "    }\n",
       "\n",
       "    .dataframe tbody tr th {\n",
       "        vertical-align: top;\n",
       "    }\n",
       "\n",
       "    .dataframe thead th {\n",
       "        text-align: right;\n",
       "    }\n",
       "</style>\n",
       "<table border=\"1\" class=\"dataframe\">\n",
       "  <thead>\n",
       "    <tr style=\"text-align: right;\">\n",
       "      <th></th>\n",
       "      <th>Ticker</th>\n",
       "      <th>CompanyName</th>\n",
       "      <th>CIK</th>\n",
       "      <th># images</th>\n",
       "      <th>form_type</th>\n",
       "      <th>filing_date</th>\n",
       "      <th>period_of_report</th>\n",
       "    </tr>\n",
       "  </thead>\n",
       "  <tbody>\n",
       "    <tr>\n",
       "      <th>709</th>\n",
       "      <td>INTC</td>\n",
       "      <td>Intel</td>\n",
       "      <td>50863</td>\n",
       "      <td>223</td>\n",
       "      <td>10-K</td>\n",
       "      <td>2021-01-22</td>\n",
       "      <td>2020-12-26</td>\n",
       "    </tr>\n",
       "    <tr>\n",
       "      <th>710</th>\n",
       "      <td>INTC</td>\n",
       "      <td>Intel</td>\n",
       "      <td>50863</td>\n",
       "      <td>223</td>\n",
       "      <td>10-K</td>\n",
       "      <td>2020-01-24</td>\n",
       "      <td>2019-12-28</td>\n",
       "    </tr>\n",
       "  </tbody>\n",
       "</table>\n",
       "</div>"
      ],
      "text/plain": [
       "    Ticker CompanyName    CIK  # images form_type filing_date period_of_report\n",
       "709   INTC       Intel  50863       223      10-K  2021-01-22       2020-12-26\n",
       "710   INTC       Intel  50863       223      10-K  2020-01-24       2019-12-28"
      ]
     },
     "execution_count": 17,
     "metadata": {},
     "output_type": "execute_result"
    }
   ],
   "source": [
    "# 223개 이미지를 갖고있는 문서\n",
    "print(df[df['# images']==223]['form_url'].values)\n",
    "df[df['# images']==223][['Ticker', 'CompanyName', 'CIK', '# images', 'form_type', 'filing_date', 'period_of_report']]"
   ]
  }
 ],
 "metadata": {
  "kernelspec": {
   "display_name": "umap",
   "language": "python",
   "name": "umap"
  },
  "language_info": {
   "codemirror_mode": {
    "name": "ipython",
    "version": 3
   },
   "file_extension": ".py",
   "mimetype": "text/x-python",
   "name": "python",
   "nbconvert_exporter": "python",
   "pygments_lexer": "ipython3",
   "version": "3.6.13"
  }
 },
 "nbformat": 4,
 "nbformat_minor": 5
}
